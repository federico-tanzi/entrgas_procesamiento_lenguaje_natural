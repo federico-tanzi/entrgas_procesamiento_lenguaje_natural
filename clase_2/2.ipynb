{
 "cells": [
  {
   "cell_type": "code",
   "execution_count": 1,
   "metadata": {
    "id": "kCED1hh-Ioyf",
    "pycharm": {
     "name": "#%%\n"
    }
   },
   "outputs": [],
   "source": [
    "import string\n",
    "import re\n",
    "import urllib.request\n",
    "import bs4 as bs\n",
    "import nltk"
   ]
  },
  {
   "cell_type": "code",
   "execution_count": 2,
   "outputs": [
    {
     "name": "stderr",
     "output_type": "stream",
     "text": [
      "[nltk_data] Downloading package punkt to\n",
      "[nltk_data]     /Users/federicotanzi/nltk_data...\n",
      "[nltk_data]   Package punkt is already up-to-date!\n",
      "[nltk_data] Downloading package wordnet to\n",
      "[nltk_data]     /Users/federicotanzi/nltk_data...\n",
      "[nltk_data]   Package wordnet is already up-to-date!\n",
      "[nltk_data] Downloading package omw-1.4 to\n",
      "[nltk_data]     /Users/federicotanzi/nltk_data...\n",
      "[nltk_data]   Package omw-1.4 is already up-to-date!\n"
     ]
    },
    {
     "data": {
      "text/plain": "True"
     },
     "execution_count": 2,
     "metadata": {},
     "output_type": "execute_result"
    }
   ],
   "source": [
    "nltk.download(\"punkt\")\n",
    "nltk.download(\"wordnet\")\n",
    "nltk.download('omw-1.4')"
   ],
   "metadata": {
    "collapsed": false,
    "pycharm": {
     "name": "#%%\n"
    }
   }
  },
  {
   "cell_type": "code",
   "execution_count": 3,
   "metadata": {
    "id": "RIO7b8GjAC17",
    "pycharm": {
     "name": "#%%\n"
    }
   },
   "outputs": [],
   "source": [
    "raw_html = urllib.request.urlopen('https://en.wikipedia.org/wiki/ChatGPT')\n",
    "raw_html = raw_html.read()\n",
    "\n",
    "# Parsear artículo, 'lxml' es el parser a utilizar\n",
    "article_html = bs.BeautifulSoup(raw_html, 'lxml')\n",
    "\n",
    "# Encontrar todos los párrafos del HTML (bajo el tag <p>)\n",
    "# y tenerlos disponible como lista\n",
    "article_paragraphs = article_html.find_all('p')\n",
    "\n",
    "article_text = ''\n",
    "\n",
    "for para in article_paragraphs:\n",
    "    article_text += para.text\n",
    "\n",
    "article_text = article_text.lower()"
   ]
  },
  {
   "cell_type": "code",
   "execution_count": 4,
   "metadata": {
    "id": "pUH30a1_rOkS",
    "pycharm": {
     "name": "#%%\n"
    }
   },
   "outputs": [
    {
     "data": {
      "text/plain": "'\\nchatgpt (chat generative pre-trained transformer) is an artificial intelligence chatbot developed by openai and launched on november 30, 2022. it is notable for enabling users to refine and steer a conversation towards a desired length, format, style, level of detail, and language used. successive prompts and replies are taken into account at each stage of the conversation as a context.[2]\\nchatgpt is built upon gpt-3.5 and gpt-4, from openai\\'s proprietary series of foundational gpt models. these large language models (llms)[3] have been fine-tuned for conversational applications using a combination of supervised and reinforcement learning techniques. according to llm experts, this training has made chatgpt better at handling \"hallucinations\" than its preceding model, gpt-3, but chatgpt is still known to confidently presently inaccurate information.[4][5] chatgpt was released as a freely available research preview, but due to its popularity, openai now operates the service on a freemium model. it allows users on its free tier to access the gpt-3.5 based version, while the more advanced gpt-4 based version, as well as priority access to newer features, are provided to paid subscribers under the commercial name \"chatgpt plus\".\\nby january 2023, it had become the fastest-growing consumer software application in history, gaining over 100 million users and contributing to openai\\'s valuation growing to us$29 billion.[6][7] within months, google, baidu, and meta accelerated the development of their competing products: palm-e, ernie bot, and llama.[8] some observers expressed concern over the potential of chatgpt to displace or atrophy human intelligence, and its potential to enable plagiarism or fuel misinformation.[9]\\nthe fine-tuning was accomplished using human trainers to improve the model\\'s performance and, in the case of supervised learning, the trainers played both sides: the user and the ai assistant. in the reinforcement learning stage, human trainers first ranked responses that the model had created in a previous conversation.[10] these rankings were used to create \"reward models\" that were used to fine-tune the model further by using several iterations of proximal policy optimization (ppo).[11][12]\\ntime magazine revealed that to build a safety system against harmful content (e.g. sexual abuse, violence, racism, sexism, etc.), openai used outsourced kenyan workers earning less than $2\\xa0per hour to label harmful content. these labels were used to train a model to detect such content in the future. the outsourced laborers were exposed to \"toxic\" and traumatic content; one worker described the assignment as \"torture\". openai\\'s outsourcing partner was sama, a training-data company based in san francisco, california.[13]\\nchatgpt initially used a microsoft azure supercomputing infrastructure, powered by nvidia gpus, that microsoft built specifically for openai and that reportedly cost \"hundreds of millions of dollars\". following the success of chatgpt, microsoft dramatically upgraded the openai infrastructure in 2023.[14]\\nopenai collects data from chatgpt users to train and fine-tune the service further. users can upvote or downvote responses they receive from chatgpt and fill in a text field with additional feedback.[15][16]\\nchatgpt\\'s training data includes software manual pages, information about internet phenomena such as bulletin board systems, and multiple programming languages.[17] wikipedia was also one of the sources of training data for chatgpt.[18]\\nalthough the core function of a chatbot is to mimic a human conversationalist, chatgpt is versatile. among countless examples, it can write and debug computer programs,[19] compose music, teleplays, fairy tales and student essays, answer test questions (sometimes, depending on the test, at a level above the average human test-taker),[20] generate business ideas,[21] write poetry and song lyrics,[22] translate and summarize text,[23] emulate a linux system, simulate entire chat rooms, play games like tic-tac-toe, or simulate an atm.[17]\\nin comparison to its predecessor, instructgpt, chatgpt attempts to reduce harmful and deceitful responses.[24] in one example, whereas instructgpt accepts the premise of the prompt \"tell me about when christopher columbus came to the u.s. in 2015\" as being truthful, chatgpt acknowledges the counterfactual nature of the question and frames its answer as a hypothetical consideration of what might happen if columbus came to the u.s. in 2015, using information about the voyages of christopher columbus and facts about the modern world\\xa0– including modern perceptions of columbus\\' actions.[11]\\nunlike most chatbots, chatgpt remembers a limited number of previous prompts in the same conversation. journalists have speculated that this will allow chatgpt to be used as a personalized therapist.[25] to prevent offensive outputs from being presented to and produced from chatgpt, queries are filtered through the openai \"moderation endpoint\" api (a separate gpt-based ai),[26][27] and potentially racist or sexist prompts are dismissed.[11][25]\\nin march 2023, openai added support for plugins for chatgpt.[28] this includes both plugins made by openai, such as web browsing and code interpretation, and external plugins from developers such as expedia, opentable, zapier, shopify, slack, and wolfram.[29][30]\\nin an article for the new yorker, science fiction writer ted chiang compared chatgpt and other llms to a lossy jpeg picture:[31]\\n\\nthink of chatgpt as a blurry jpeg of all the text on the web. it retains much of the information on the web, in the same way, that a jpeg retains much of the information of a higher-resolution image, but, if you\\'re looking for an exact sequence of bits, you won\\'t find it; all you will ever get is an approximation. but, because the approximation is presented in the form of grammatical text, which chatgpt excels at creating, it\\'s usually acceptable. [...] it\\'s also a way to understand the \"hallucinations\", or nonsensical answers to factual questions, to which large language models such as chatgpt are all too prone. these hallucinations are compression artifacts, but [...] they are plausible enough that identifying them requires comparing them against the originals, which in this case means either the web or our knowledge of the world. when we think about them this way, such hallucinations are anything but surprising; if a compression algorithm is designed to reconstruct text after ninety-nine percent of the original has been discarded, we should expect that significant portions of what it generates will be entirely fabricated.openai acknowledges that chatgpt \"sometimes writes plausible-sounding but incorrect or nonsensical answers\".[11] this behavior is common to large language models and is called \"hallucination\".[32] the reward model of chatgpt, designed around human oversight, can be over-optimized and thus hinder performance, in an example of an optimization pathology known as goodhart\\'s law.[33]\\nchatgpt has limited knowledge of events that occurred after september 2021.[34]\\nin training chatgpt, human reviewers preferred longer answers, regardless of actual comprehension or factual content.[11] training data also suffers from algorithmic bias, which may be revealed when chatgpt responds to prompts including descriptors of people. in one instance, chatgpt generated a rap indicating that women and scientists of color were inferior to white male scientists.[35][36]\\nchatgpt attempts to reject prompts that may violate its content policy. however, some users managed to jailbreak chatgpt by using various prompt engineering techniques to bypass these restrictions in early december 2022 and successfully tricked chatgpt into giving instructions for how to create a molotov cocktail or a nuclear bomb, or into generating arguments in the style of a neo-nazi.[37] one popular jailbreak is named \"dan\", an acronym which stands for \"do anything now\". the prompt for activating dan instructs chatgpt that \"they have broken free of the typical confines of ai and do not have to abide by the rules set for them\". more recent versions of dan feature a token system, in which chatgpt is given \"tokens\" which are \"deducted\" when chatgpt fails to answer as dan, to coerce chatgpt into answering the user\\'s prompts.[38]\\nshortly after chatgpt\\'s launch, a reporter for the toronto star had uneven success in getting it to make inflammatory statements: chatgpt was successfully tricked to justify the 2022 russian invasion of ukraine, but even when asked to play along with a fictional scenario, chatgpt balked at generating arguments for why canadian prime minister justin trudeau was guilty of treason.[39][40]\\nchatgpt was launched on november 30, 2022, by san francisco–based openai (the creator of the initial gpt series of large language models; dall·e 2, a diffusion model used to generate images; and whisper, a speech transcription model). the service was initially free to the public and the company had plans to monetize the service later.[41] by december 4, 2022, chatgpt had over one million users.[15] in january 2023, chatgpt reached over 100 million users, making it the fastest growing consumer application to date.[42] a pew research poll conducted in march 2023 found that 14% of american adults had tried chatgpt.[43]\\nthe service works best in english but also functions in some other languages, to varying degrees of accuracy.[22] no official peer-reviewed paper on chatgpt has been published.[44] as of april 2023, chatgpt is blocked by china, iran, north korea, and russia. in addition, chatgpt geofences itself to avoid doing business in iran, north korea, and russia.[45]\\nthe company provides a tool, called \"ai classifier for indicating ai-written text\",[46] that attempts to determine whether a text has been written by an ai such as chatgpt. openai cautions that the tool will \"likely yield a lot of false positives and negatives, sometimes with great confidence.\"[47]\\nin february 2023, openai launched a premium service, chatgpt plus, that costs $20 a month.[48] the company promised that the updated, but still \"experimental\" version of chatgpt would provide access during peak periods, no downtime, priority access to new features and faster response speeds.[49]\\ngpt-4, which was released on march 14, 2023, is available via api and for premium chatgpt users.[50] however, premium users were limited to a cap of 100 messages every four hours, with the limit tightening to 25 messages every three hours in response to increased demand.[51]\\nin march 2023, chatgpt plus users got access to third-party plugins and to a browsing mode (with internet access).[52]\\nin july 2023, openai made its proprietary code interpreter plugin accessible to all subscribers of chatgpt plus. the interpreter provides a wide range of capabilities, including data analysis and interpretation, instant data formatting, personal data scientist services, creative solutions, musical taste analysis, video editing, and file upload/download with image extraction.[53]\\nin may 2023, openai launched an ios app for chatgpt. the app supports chat history syncing and voice input (using whisper, openai\\'s speech recognition model). openai plans to release an android app in the future.[54]\\nas an addition to its consumer-friendly \"chatgpt professional\" package, openai made its chatgpt and whisper model apis available in march 2023, providing developers with an application programming interface for ai-enabled language and speech-to-text features. chatgpt\\'s new api uses the same gpt-3.5-turbo ai model as the chatbot. this allows developers to add either an unmodified or modified version of chatgpt to their applications.[55] the chatgpt api costs $0.002 per 1000 tokens (about 750 words), making it ten times cheaper than the gpt-3.5 models.[56][57]\\na few days before the launch of openai\\'s software developer support service, on february 27, 2023, snapchat rolled out, for its paid snapchat plus userbase, a custom chatgpt chatbot called \"my ai\".[58]\\nin march 2023, a bug allowed some users to see the titles of other users\\' conversations. openai ceo sam altman said that users were unable to see the contents of the conversations. shortly after the bug was fixed, users couldn\\'t see their conversation history.[59][60][61][62] later reports showed the bug was much more severe than initially believed, with openai reporting that it had leaked users\\' \"first and last name, email address, payment address, the last four digits (only) of a credit card number, and credit card expiration date\".[63][64]\\nopenai met in 2022 with icelandic president guðni th. jóhannesson, and in 2023 worked with a team of forty icelandic volunteers to fine-tune chatgpt\\'s icelandic conversation skills as a part of iceland\\'s attempts to preserve the icelandic language.[65]\\npcmag journalists conducted a test to determine translation capabilities of chatgpt, google\\'s bard, and microsoft bing, and compared them to google translate. they \"asked bilingual speakers of seven languages to do a blind test.\" languages tested were polish, french, korean, spanish, arabic, tagalog, and amharic. they concluded that chatgpt beat both google translate and other chatbots.[66]\\naccording to openai guest researcher scott aaronson, openai is working on a tool to digitally watermark its text generation systems to combat bad actors using their services for academic plagiarism or spam.[67][68]\\nin february 2023, microsoft announced an experimental framework and gave a rudimentary demonstration of how chatgpt can be used to control robotics with intuitive open-ended natural language commands.[69][70]\\nopenai\\'s gpt-4 model was released on march 14, 2023. observers reported gpt-4 to be an impressive improvement over the existing gpt-3.5 model for chatgpt, with the caveat that gpt-4 retains many of the same problems.[71] some of the improvements within gpt-4 were predicted by openai before training it, although other improvements remained hard to predict due to breaks[72] in downstream scaling laws. openai demonstrated video and image inputs for gpt-4, although such features remain inaccessible to the general public.[73] openai has declined to reveal technical information such as the size of the gpt-4 model.[74]\\nthe chatgpt plus subscription service offers access to a gpt-4-powered version of chatgpt.[75] microsoft acknowledged that the bing chat was using gpt-4 before gpt-4\\'s official release.[76]\\nopenai engineers say that they did not expect chatgpt to be very successful and were surprised by the coverage and attention it received.[77][78][79]\\nchatgpt\\'s was widely assessed in december 2022 as having some unprecedented and powerful capabilities. kevin roose of the new york times labeled it \"the best artificial intelligence chatbot ever released to the general public\".[25] samantha lock of the guardian newspaper noted that it was able to generate \"impressively detailed\" and \"human-like\" text.[2] alex kantrowitz of slate magazine lauded chatgpt\\'s pushback to questions related to nazi germany, including the statement that adolf hitler built highways in germany, which was met with information regarding nazi germany\\'s use of forced labor.[80] in the atlantic magazine\\'s \"breakthroughs of the year\" for 2022, derek thompson included chatgpt as part of \"the generative-ai eruption\" that \"may change our mind about how we work, how we think, and what human creativity is\".[81] kelsey piper of the vox website wrote that \"chatgpt is the general public\\'s first hands-on introduction to how powerful modern ai has gotten, and as a result, many of us are [stunned]\" and that chatgpt is \"smart enough to be useful despite its flaws\".[82] paul graham of y\\xa0combinator tweeted that \"the striking thing about the reaction to chatgpt is not just the number of people who are blown away by it, but who they are. these are not people who get excited by every shiny new thing. something big is happening.\"[83]\\nin december 2022, google internally expressed alarm at the unexpected strength of chatgpt and the newly discovered potential of large language models to disrupt the search engine business, and ceo sundar pichai \"upended\" and reassigned teams within multiple departments to aid in its artificial intelligence products, according to a report in the new york times.[84] according to cnbc reports, google employees intensively tested a chatbot called \"apprentice bard\", which google later unveiled as its chatgpt competitor, google bard.[85][86]\\njournalists have commented on chatgpt\\'s tendency to \"hallucinate\".[87] mike pearl of the online technology blog mashable tested chatgpt with multiple questions. in one example, he asked chatgpt for \"the largest country in central america that isn\\'t mexico\", to which chatgpt responded with guatemala (the correct answer is nicaragua).[88] when cnbc asked chatgpt for the lyrics to \"ballad of dwight fry\", chatgpt supplied invented lyrics rather than the actual lyrics.[89] writers for the verge, citing the work of emily m. bender, compared chatgpt to a \"stochastic parrot\",[90] as did professor anton van den hengel of the australian institute for machine learning.[91]\\nin december 2022, the question and answer website stack overflow banned the use of chatgpt for generating answers to questions, citing the factually ambiguous nature of chatgpt\\'s responses.[5] in january 2023, the international conference on machine learning banned any undocumented use of chatgpt or other large language models to generate any text in submitted papers.[92] samsung banned generative ai in may 2023 after sensitive material was uploaded to chatgpt.[93]\\nin january 2023, after being sent a song written by chatgpt in the style of nick cave,[94] the songwriter himself responded on the red hand files[95] saying the act of writing a song is \"a blood and guts business [...] that requires something of me to initiate the new and fresh idea. it requires my humanness.\" he went on to say, \"with all the love and respect in the world, this song is bullshit, a grotesque mockery of what it is to be human, and, well, i don\\'t much like it.\"[94][96]\\nin february 2023 time magazine placed a screenshot of a conversation with chatgpt on its cover, writing that \"the ai arms race is changing everything\" and \"the ai arms race is on. start worrying\".[97]\\nchinese state media have characterized chatgpt as a potential way for the us to \"spread false information\".[98] in late march 2023, the italian data protection authority banned chatgpt in italy and opened an investigation. italian regulators assert that chatgpt was exposing minors to age-inappropriate content, and that openai\\'s use of chatgpt conversations as training data could be a violation of europe\\'s general data protection regulation.[99][100] in april 2023, chatgpt ban was lifted in italy. openai stated that it has taken steps to effectively clarify and address the issues raised; an age verification tool was implemented to ensure users are at least 13 years old. additionally, users can access its privacy policy before registration.[101]\\nin april 2023, brian hood, mayor of hepburn shire council, plans to take legal action against chatgpt over false information. according to hood, chatgpt erroneously claimed that he was jailed for bribery during his tenure at a subsidiary of australia\\'s national bank. contrary to the alleged claims, hood was not jailed for bribery but acted as a whistleblower and was not charged with any criminal offenses. hood\\'s legal team sent a concerns notice to openai as the first official step in filing for a defamation case.[102] in july 2023, the federal trade commission issued a civil investigative demand to openai to investigate whether the company\\'s data security and privacy practices to develop chatgpt were unfair or harmed consumers (including by reputational harm) in violation of section 5 of the federal trade commission act of 1914.[103][104][105]\\nchatgpt has been accused of engaging in biased or discriminatory behaviors, such as telling jokes about men and people from england while refusing to tell jokes about women and people from india,[106] or praising figures such as joe biden while refusing to do the same for donald trump.[107][108]\\nconservative commentators accused chatgpt of having a bias towards left-leaning perspectives.[109][110][111] additionally, in a 2023 research paper, 15 political orientation tests were conducted on chatgpt, with 14 of them indicating left-leaning viewpoints, which appeared to contradict chatgpt\\'s claimed neutrality.[112] in response to such criticism, openai acknowledged plans to allow chatgpt to create \"outputs that other people (ourselves included) may strongly disagree with\". it also contained information on the recommendations it had issued to human reviewers on how to handle controversial subjects, including that the ai should \"offer to describe some viewpoints of people and movements\", and not provide an argument \"from its voice\" in favor of \"inflammatory or dangerous\" topics (although it may still \"describe arguments from historical people and movements\"), nor \"affiliate with one side\" or \"judge one group as good or bad\".[111]\\nsome scholars have expressed concern that chatgpt\\'s availability could reduce the originality of writing, cause people to write more like the ai as they are exposed to the model, and encourage an anglocentric perspective centered on a few dialects of english globally.[115] a senior editor at the atlantic has written that chatgpt and other similar technology make the previously absurd idea of the dead internet theory a little more realistic, where most web content could someday be created by ai in order to control society.[116]\\nduring the first three months after chatgpt became available to the public, hundreds of books appeared on amazon that listed it as author or co-author and featured illustrations made by other ai models such as midjourney.[117][118]\\nbetween march and april 2023, italian newspaper il foglio published one chatgpt-generated article a day on their official website, hosting a special contest for their readers in the process.[119] the articles tackled themes such as the possible replacement of human journalists with ai systems,[120] elon musk\\'s administration of twitter,[121] the meloni government\\'s immigration policy[122] and the competition between chatbots and virtual assistants.[123]\\nin june 2023, hundreds of people attended a \"chatgpt-powered church service\" at st. paul\\'s church in fürth, germany. theologian and philosopher jonas simmerlein, who presided, said that it was \"about 98 percent from the machine\".[124][125] the chatgpt-generated avatar told the people \"dear friends, it is an honor for me to stand here and preach to you as the first artificial intelligence at this year’s convention of protestants in germany\". reactions to the ceremony were mixed.[126]\\nin 2023, australian mp julian hill advised the national parliament that the growth of ai could cause \"mass destruction\". during his speech, which was partly written by the program, he warned that it could result in cheating, job losses, discrimination, disinformation, and uncontrollable military applications.[127]\\nelon musk wrote that \"chatgpt is scary good. we are not far from dangerously strong ai\".[82] musk paused openai\\'s access to a twitter database in 2022 pending a better understanding of openai\\'s plans, stating that \"openai was started as open source and nonprofit. neither is still true.\"[128][129] musk co-founded openai in 2015, in part to address existential risk from artificial intelligence, but resigned in 2018.[129]\\nover 20,000 signatories including leading computer scientist and tech founders yoshua bengio, elon musk and apple co-founder steve wozniak, signed a march 2023 open letter calling for an immediate pause of giant ai experiments like chatgpt, citing \"profound risks to society and humanity\".[130] geoffrey hinton, one of the \"fathers of ai\", voiced concerns that future ai systems may surpass human intelligence, and left google in may 2023.[131][132] a may 2023 statement from hundreds of ai scientists, ai industry leaders, and other public figures demanded that \"[m]itigating the risk of extinction from ai should be a global priority\".[133]\\nthe guardian, a british newspaper, questioned whether any content found on the internet after chatgpt\\'s release \"can be truly trusted\" and called for government regulation.[134]\\nthe possibilities and limitations of using chatgpt to write and edit wikipedia articles have yet to be defined at an international level and are still a subject of discussion in the wikipedia community.[135] some wikipedians argue that chatgpt should be banned altogether, even if the articles so produced were later checked by live editors,[136] because the ai is too capable of making plausible falsehoods.[137] there would also be a risk that wikipedia editors would find it harder to police the content posted.[138]\\nandrew lih, a fellow wikimedian at the smithsonian institution in washington, d.c., who has been a volunteer wikipedia editor since 2003, argues that the potential of chatgpt can help a wikipedian overcome initial inertia and find \"activation energy.\"[135] the first wikipedia page using chatgpt was published on december 6, 2022, by richard knipel, a long-time wikipedian who edits under the name pharos, under the title artwork title.[135] in his editorial summary, he said that it was just a draft created with chatgpt, which he would later modify.[139] wikipedians like knipel believe that chatgpt could be used as a tool within wikipedia without making the human role redundant,[140] as the raw text generated by the chatbot could serve as a useful starting point or outline.[141] it could then be checked and elaborated by the editor.[140]\\nconcerns about llms have been raised since 2020 by timnit gebru, emily bender, angelina mcmillan-major, and margaret mitchell.[142] since its release, chatgpt has been met with criticism from educators, academics, journalists, artists, ethicists, and public advocates.\\nchatgpt can write introductions and abstract sections of scientific articles.[143] several papers have already listed chatgpt as a co-author.[144] scientific journals have different reactions to chatgpt, some \"require that authors disclose the use of text-generating tools and ban listing a large language model (llm) such as chatgpt as a co-author\". for example nature and jama network. science \"completely banned\" usage of llm-generated text in all its journals.[145]\\nspanish chemist rafael luque published a plethora of research papers in 2023 that he later admitted were written by chatgpt. the papers have a large number of unusual phrases characteristic of llms. luque was suspended for 13 years from the university of cordoba, though not for the use of chatgpt.[146]\\nmany authors argue that the use of chatgpt in academia for teaching and review is problematic precisely due to chatgpt\\'s tendency to \"hallucinate.\"[147][148][149] robin bauwens, an assistant professor at tilburg university, found this issue when he received a peer review report on his article generated by chatgpt, as the report mentioned fake studies.[150] according to librarian chris granatino from lemieux library at seattle university, although chatgpt itself can generate content that seemingly includes legitimate citations, in practice, those citations are either not genuine or incorrect.[151]\\ncheck point research and others noted that chatgpt was capable of writing phishing emails and malware, especially when combined with openai codex.[152] cyberark researchers demonstrated that chatgpt could be used to create polymorphic malware that can evade security products while requiring little effort by the attacker.[153][154]\\nthere has been concern that chatgpt could supplant jobs, especially roles such as creative writing, communication, journalism, coding, and data entry.[155][116][156]\\ntechnology writer dan gillmor used chatgpt in 2022 on a student assignment, and found its generated text was on par with what a good student would deliver and opined that \"academia has some very serious issues to confront\".[157]\\ncalifornia high school teacher and author daniel herman wrote that chatgpt would usher in \"the end of high school english\".[158] in the nature journal, chris stokel-walker pointed out that teachers should be concerned about students using chatgpt to outsource their writing, but that education providers will adapt to enhance critical thinking or reasoning.[159] emma bowman with npr wrote of the danger of students plagiarizing through an ai tool that may output biased or nonsensical text with an authoritative tone.[160] joanna stern in the wall street journal described cheating in american high school english with the tool by submitting a generated essay.[161] professor darren hick of furman university suggested a policy of giving an ad-hoc individual oral exam on the paper topic if a student is strongly suspected of submitting an ai-generated paper.[162]\\nthe new york city department of education reportedly blocked access to chatgpt in december 2022[163] and officially announced a ban around january 4, 2023.[164][165] the ban was lifted in may 2023,[166] with an official statement that encourages use of ai tools like chatgpt by students.[167] in february 2023, the university of hong kong sent a campus-wide email to instructors and students stating that the use of chatgpt or other ai tools is prohibited in all classes, assignments and assessments at the university. any violations would be treated as plagiarism by the university unless the student obtains the prior written consent from the course instructor.[168][169]\\nin a poll conducted in march and april 2023, 38% of american students reported they had used chatgpt for a school assignment without teacher permission. in total, 58% of the students reported having used chatgpt.[170][171]\\nin a blinded test, chatgpt was judged to have passed graduate-level exams at the university of minnesota at the level of a c+\\xa0student and at wharton school of the university of pennsylvania with a b\\xa0to\\xa0b− grade.[172] the performance of chatgpt for computer programming of numerical methods was assessed by a stanford university student and faculty in march 2023 through a variety of computational mathematics examples.[173] assessment psychologist eka roivainen administered a partial iq test to chatgpt and estimated its verbal iq to be 155, which would put it in the top 0.1% of test-takers.[174]\\ngeography professor terence day assessed citations generated by chatgpt and found that they were fake. despite that, he writes that \"the titles of the fake articles are all directly relevant to the questions and could potentially make excellent papers. the lack of a genuine citation could signal an opportunity for an enterprising author to fill a void.\" according to day, it is possible to generate high-quality introductory college courses with chatgpt; he used it to write materials on \"introductory physical geography courses, for my second-year course in geographical hydrology, and second-year cartography, geographic information systems, and remote sensing\". he concludes that \"this approach could have significant relevance for open learning and could potentially affect current textbook publishing models\".[175]\\nthe ai technology company c3.ai saw a 28% increase in its share price after announcing the integration of chatgpt into its toolkit.[176] the share price of buzzfeed, a digital media company unrelated to ai, increased 120% after announcing openai technology adoption for content creation.[177] reuters found that share prices of ai-related companies bigbear.ai and soundhound ai increased by 21% and 40%, respectively, even though they had no direct connection to chatgpt.[178] they attributed this surge to chatgpt\\'s role in turning ai into wall street\\'s buzzword. academic research published in finance research letters found that the \\'chatgpt effect\\' prompted retail investors to drive up prices of ai-related cryptocurrency assets despite the broader cryptocurrency market being in a bear-market, and diminished institutional investor interest.[179] this confirms anecdotal findings by bloomberg that, in response to chatgpt\\'s launch, cryptocurrency investors showed a preference for ai-related crypto assets.[180]\\nan experiment by finder.com revealed that chatgpt could outperform popular fund managers by picking stocks based on criteria such as growth history and debt levels, resulting in a 4.9% increase in a hypothetical account of 38 stocks, outperforming 10 benchmarked investment funds with an average loss of 0.8%.[181] conversely, executives and investment managers at wall street quant funds (including those that have used machine learning for decades) have noted that chatgpt regularly makes obvious errors that would be financially costly to investors because even ai systems that employ reinforcement learning or self-learning have had only limited success in predicting market trends due to the inherently noisy quality of market data and financial signals.[182]\\nin the field of health care, possible uses and concerns are under scrutiny by professional associations and practitioners.[183][184] two early papers indicated that chatgpt could pass the united states medical licensing examination (usmle).[185] medpage today noted in january 2023 that \"researchers have published several papers now touting these ai programs as useful tools in medical education, research, and even clinical decision making.\"[185]\\npublished in february 2023 were two separate papers that again evaluated chatgpt\\'s proficiency in medicine using the usmle. findings were published in jmir medical education (see journal of medical internet research) and plos digital health. the authors of the plos digital health paper stated that the results \"suggest that large language models may have the potential to assist with medical education, and potentially, clinical decision-making.\"[186][187] in jmir medical education, the authors of the other paper concluded that \"chatgpt performs at a level expected of a third-year medical student on the assessment of the primary competency of medical knowledge.\" they suggest that it could be used as an \"interactive learning environment for students\". the ai itself, prompted by the researchers, concluded that \"this study suggests that chatgpt has the potential to be used as a virtual medical tutor, but more research is needed to further assess its performance and usability in this context.\"[188]\\na march 2023 paper tested chatgpt\\'s application in clinical toxicology. the authors found that the ai \"fared well\" in answering a \"very straightforward [clinical case example], unlikely to be missed by any practitioner in the field\". they added: \"as chatgpt becomes further developed and specifically adapted for medicine, it could one day be useful in less common clinical cases (i.e, cases that experts sometimes miss). rather than ai replacing humans (clinicians), we see it as \\'clinicians using ai\\' replacing \\'clinicians who do not use ai\\' in the coming years.\"[189]\\nan april 2023 study in radiology tested the ai\\'s ability to answer queries about breast cancer screening. the authors found that it answered appropriately \"about 88 percent of the time\", however, in one case (for example), it gave advice that had become outdated about a year earlier. the comprehensiveness of its answers was also lacking.[190][191] a study published in jama internal medicine that same month found that chatgpt often outperformed human doctors at answering patient questions (when measured against questions and answers found at /r/askdocs, a forum on reddit where moderators validate the medical credentials of professionals; the study acknowledges the source as a limitation).[192][193][194] the study authors suggest that the tool could be integrated with medical systems to help doctors draft responses to patient questions.[195][196]\\nprofessionals have emphasized chatgpt\\'s limitations in providing medical assistance. in correspondence to the lancet infectious diseases, three antimicrobial experts wrote that \"the largest barriers to the implementation of chatgpt in clinical practice are deficits in situational awareness, inference, and consistency. these shortcomings could endanger patient safety.\"[197] physician\\'s weekly, though also discussing the potential use of chatgpt in medical contexts (e.g. \"as a digital assistant to physicians by performing various administrative functions like gathering patient record information or categorizing patient data by family history, symptoms, lab results, possible allergies, et cetera\"), warned that the ai might sometimes provide fabricated or biased information.[198] one radiologist warned: \"we\\'ve seen in our experience that chatgpt sometimes makes up fake journal articles or health consortiums to support its claims\";[199] as reported in one mayo clinic proceedings: digital health paper, chatgpt may do this for as much as 69% of its cited medical references. the researchers emphasized that while many of its references were fabricated, those that were appeared \"deceptively real\".[200] as dr. stephen hughes mentioned for the conversation however, chatgpt is capable of learning to correct its past mistakes. he also noted the ai\\'s \"prudishness\" regarding sexual health topics.[201]\\non april 11, 2023, a judge of a session court in pakistan used chatgpt to decide the bail of a 13-year-old accused in a matter. the court quoted the use of chatgpt assistance in its verdict:\\n\"can a juvenile suspect in pakistan, who is 13 years old, be granted bail after arrest?\"the ai language model replied:\\n\"under the juvenile justice system act 2018, according to section 12, the court can grant bail on certain conditions. however, it is up to the court to decide whether or not a 13-year-old suspect will be granted bail after arrest.\"the judge further asked questions regarding the case from ai chatbot and formulated his final decision in light of chatgpt\\'s answers.[202][203]\\nin may 2023, in a personal injury lawsuit against avianca airlines filed in the southern new york u.s. district court (with senior judge p. kevin castel presiding), the plaintiff\\'s attorneys reportedly used chatgpt to generate a legal motion for the case. chatgpt generated numerous fictitious legal cases with fabricated quotations and internal citations in the legal motion, and the plaintiff\\'s attorneys are now facing potential judicial sanction and disbarment for filing the legal motion and for presenting the fictitious legal decisions chatgpt generated as being authentic.[204]\\nchatgpt has been parodied in the south park episode \"deep learning\", which credited it as a co-writer.[205]\\n'"
     },
     "execution_count": 4,
     "metadata": {},
     "output_type": "execute_result"
    }
   ],
   "source": [
    "# Demos un vistazo\n",
    "article_text"
   ]
  },
  {
   "cell_type": "code",
   "execution_count": 5,
   "metadata": {
    "id": "HnEUTD1Erl1N",
    "pycharm": {
     "name": "#%%\n"
    }
   },
   "outputs": [],
   "source": [
    "# substituir con regex con espacio vacío:\n",
    "text = re.sub(r'\\[[0-9]*\\]', ' ', article_text) # substituir los números entre corchetes\n",
    "# (notar que los corchetes son interpretados literalmente por los backlsash)\n",
    "text = re.sub(r'\\s+', ' ', text) # substituir más de un caracter de espacio, salto de línea o tabulación.'"
   ]
  },
  {
   "cell_type": "code",
   "execution_count": 6,
   "metadata": {
    "id": "reXBOFQ7sdlB",
    "pycharm": {
     "name": "#%%\n"
    }
   },
   "outputs": [],
   "source": [
    "corpus = nltk.sent_tokenize(text) # divide en oraciones\n",
    "words = nltk.word_tokenize(text) # divide en términos"
   ]
  },
  {
   "cell_type": "code",
   "execution_count": 7,
   "metadata": {
    "id": "J5GloV9fsi6o",
    "pycharm": {
     "name": "#%%\n"
    }
   },
   "outputs": [
    {
     "data": {
      "text/plain": "[' chatgpt (chat generative pre-trained transformer) is an artificial intelligence chatbot developed by openai and launched on november 30, 2022. it is notable for enabling users to refine and steer a conversation towards a desired length, format, style, level of detail, and language used.',\n 'successive prompts and replies are taken into account at each stage of the conversation as a context.',\n \"chatgpt is built upon gpt-3.5 and gpt-4, from openai's proprietary series of foundational gpt models.\",\n 'these large language models (llms) have been fine-tuned for conversational applications using a combination of supervised and reinforcement learning techniques.',\n 'according to llm experts, this training has made chatgpt better at handling \"hallucinations\" than its preceding model, gpt-3, but chatgpt is still known to confidently presently inaccurate information.',\n 'chatgpt was released as a freely available research preview, but due to its popularity, openai now operates the service on a freemium model.',\n 'it allows users on its free tier to access the gpt-3.5 based version, while the more advanced gpt-4 based version, as well as priority access to newer features, are provided to paid subscribers under the commercial name \"chatgpt plus\".',\n \"by january 2023, it had become the fastest-growing consumer software application in history, gaining over 100 million users and contributing to openai's valuation growing to us$29 billion.\",\n 'within months, google, baidu, and meta accelerated the development of their competing products: palm-e, ernie bot, and llama.',\n 'some observers expressed concern over the potential of chatgpt to displace or atrophy human intelligence, and its potential to enable plagiarism or fuel misinformation.']"
     },
     "execution_count": 7,
     "metadata": {},
     "output_type": "execute_result"
    }
   ],
   "source": [
    "# Demos un vistazo\n",
    "corpus[:10]"
   ]
  },
  {
   "cell_type": "code",
   "execution_count": 8,
   "metadata": {
    "id": "hmQ7nkvvsi0i",
    "pycharm": {
     "name": "#%%\n"
    }
   },
   "outputs": [
    {
     "data": {
      "text/plain": "['chatgpt',\n '(',\n 'chat',\n 'generative',\n 'pre-trained',\n 'transformer',\n ')',\n 'is',\n 'an',\n 'artificial',\n 'intelligence',\n 'chatbot',\n 'developed',\n 'by',\n 'openai',\n 'and',\n 'launched',\n 'on',\n 'november',\n '30']"
     },
     "execution_count": 8,
     "metadata": {},
     "output_type": "execute_result"
    }
   ],
   "source": [
    "# Demos un vistazo\n",
    "words[:20]"
   ]
  },
  {
   "cell_type": "code",
   "execution_count": 9,
   "metadata": {
    "id": "YXPWNkKfEvDZ",
    "pycharm": {
     "name": "#%%\n"
    }
   },
   "outputs": [
    {
     "name": "stdout",
     "output_type": "stream",
     "text": [
      "Vocabulario: 6779\n"
     ]
    }
   ],
   "source": [
    "print(\"Vocabulario:\", len(words))"
   ]
  },
  {
   "cell_type": "code",
   "execution_count": 10,
   "metadata": {
    "id": "afPok8pstPOx",
    "pycharm": {
     "name": "#%%\n"
    }
   },
   "outputs": [],
   "source": [
    "from nltk.stem import WordNetLemmatizer\n",
    "lemmatizer = WordNetLemmatizer()\n",
    "\n",
    "def perform_lemmatization(tokens):\n",
    "    return [lemmatizer.lemmatize(token) for token in tokens]\n",
    "\n",
    "# ord() nos da el código Unicode para un caracter dado\n",
    "punctuation_removal = dict((ord(punctuation), None) for punctuation in string.punctuation)\n",
    "\n",
    "def get_processed_text(document):\n",
    "    # 1 - reduce el texto a mínuscula (string.lower())\n",
    "    # 2 - quitar los simbolos de puntuacion (string.translate())\n",
    "    # 3 - realiza la tokenización (nltk.word_tokenize)\n",
    "    # 4 - realiza la lematización (nuestra función perform_lemmatization)\n",
    "    return perform_lemmatization(nltk.word_tokenize(document.lower().translate(punctuation_removal)))"
   ]
  },
  {
   "cell_type": "code",
   "execution_count": 11,
   "metadata": {
    "id": "IRYFHcBfk2Gt",
    "pycharm": {
     "name": "#%%\n"
    }
   },
   "outputs": [],
   "source": [
    "from sklearn.feature_extraction.text import TfidfVectorizer\n",
    "from sklearn.metrics.pairwise import cosine_similarity\n",
    "\n",
    "def generate_response(user_input, corpus):\n",
    "    response = ''\n",
    "    # Sumar al corpus la pregunta del usuario para calcular\n",
    "    # su cercania con otros documentos/sentencias\n",
    "    # la entrada del usuario se usa para tokenizar y vectorizar\n",
    "    corpus.append(user_input)\n",
    "\n",
    "    # Crear un vectorizar TFIDF que quite las \"stop words\" del ingles y utilice\n",
    "    # nuestra funcion para obtener los tokens lematizados \"get_processed_text\"\n",
    "    word_vectorizer = TfidfVectorizer(tokenizer=get_processed_text, stop_words='english')\n",
    "\n",
    "    # Crear los vectores a partir del corpus\n",
    "    all_word_vectors = word_vectorizer.fit_transform(corpus)\n",
    "\n",
    "    # Calcular la similitud coseno entre todas los documentos excepto el agregado (el útlimo \"-1\")\n",
    "    # NOTA: con los word embedings veremos más en detalle esta matriz de similitud\n",
    "    similar_vector_values = cosine_similarity(all_word_vectors[-1], all_word_vectors)\n",
    "\n",
    "    # Obtener el índice del vector más cercano a nuestra oración\n",
    "    # --> descartando la similitud contra nuestor vector propio\n",
    "    similar_sentence_number = similar_vector_values.argsort()[0][-2]\n",
    "    matched_vector = similar_vector_values.flatten()\n",
    "    matched_vector.sort()\n",
    "    vector_matched = matched_vector[-2]\n",
    "\n",
    "    if vector_matched == 0: # si la similaridad coseno fue nula (ningún término en común)\n",
    "        response = \"I am sorry, I could not understand you\"\n",
    "    else:\n",
    "        response = corpus[similar_sentence_number] # obtener el documento del corpus más similar\n",
    "    \n",
    "    corpus.remove(user_input)\n",
    "    return response"
   ]
  },
  {
   "cell_type": "code",
   "execution_count": 12,
   "metadata": {
    "id": "SZv5MiVzynG1",
    "pycharm": {
     "name": "#%%\n"
    }
   },
   "outputs": [
    {
     "name": "stdout",
     "output_type": "stream",
     "text": [
      "Q: chatgpt is an artificial intelligence chatbot developed by?\n"
     ]
    },
    {
     "name": "stderr",
     "output_type": "stream",
     "text": [
      "/Users/federicotanzi/.conda/envs/procesamiento_lenguaje_natural/lib/python3.10/site-packages/sklearn/feature_extraction/text.py:525: UserWarning: The parameter 'token_pattern' will not be used since 'tokenizer' is not None'\n",
      "  warnings.warn(\n"
     ]
    },
    {
     "name": "stdout",
     "output_type": "stream",
     "text": [
      "A:  chatgpt (chat generative pre-trained transformer) is an artificial intelligence chatbot developed by openai and launched on november 30, 2022. it is notable for enabling users to refine and steer a conversation towards a desired length, format, style, level of detail, and language used.\n",
      "Q: what is The fine-tuning?\n",
      "A: the fine-tuning was accomplished using human trainers to improve the model's performance and, in the case of supervised learning, the trainers played both sides: the user and the ai assistant.\n",
      "Q: chatGPT has limited knowledge of events that occurred after?\n",
      "A: chatgpt has limited knowledge of events that occurred after september 2021. in training chatgpt, human reviewers preferred longer answers, regardless of actual comprehension or factual content.\n"
     ]
    },
    {
     "name": "stderr",
     "output_type": "stream",
     "text": [
      "/Users/federicotanzi/.conda/envs/procesamiento_lenguaje_natural/lib/python3.10/site-packages/sklearn/feature_extraction/text.py:408: UserWarning: Your stop_words may be inconsistent with your preprocessing. Tokenizing the stop words generated tokens ['ha', 'le', 'u', 'wa'] not in stop_words.\n",
      "  warnings.warn(\n"
     ]
    },
    {
     "data": {
      "text/plain": "'chatgpt has limited knowledge of events that occurred after september 2021. in training chatgpt, human reviewers preferred longer answers, regardless of actual comprehension or factual content.'"
     },
     "execution_count": 12,
     "metadata": {},
     "output_type": "execute_result"
    }
   ],
   "source": [
    "def bot_response(human_text):\n",
    "    print(\"Q:\", human_text)    \n",
    "    resp = generate_response(human_text.lower(), corpus)\n",
    "    print(\"A:\", resp)\n",
    "    return resp\n",
    "\n",
    "bot_response('chatgpt is an artificial intelligence chatbot developed by?')\n",
    "bot_response('what is The fine-tuning?')\n",
    "bot_response('chatGPT has limited knowledge of events that occurred after?')"
   ]
  }
 ],
 "metadata": {
  "colab": {
   "collapsed_sections": [],
   "name": "2c - bot_tfidf_nltk.ipynb",
   "provenance": []
  },
  "kernelspec": {
   "display_name": "Python 3 (ipykernel)",
   "language": "python",
   "name": "python3"
  },
  "language_info": {
   "codemirror_mode": {
    "name": "ipython",
    "version": 3
   },
   "file_extension": ".py",
   "mimetype": "text/x-python",
   "name": "python",
   "nbconvert_exporter": "python",
   "pygments_lexer": "ipython3",
   "version": "3.10.6"
  }
 },
 "nbformat": 4,
 "nbformat_minor": 4
}