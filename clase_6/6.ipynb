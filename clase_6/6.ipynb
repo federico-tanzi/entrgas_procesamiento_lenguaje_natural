{
 "cells": [
  {
   "cell_type": "markdown",
   "metadata": {
    "id": "pfa39F4lsLf3",
    "pycharm": {
     "name": "#%% md\n"
    }
   },
   "source": [
    "<img src=\"https://github.com/hernancontigiani/ceia_memorias_especializacion/raw/master/Figures/logoFIUBA.jpg\" width=\"500\" align=\"center\">\n",
    "\n",
    "\n",
    "# Procesamiento de lenguaje natural\n",
    "## LSTM Bot QA"
   ]
  },
  {
   "cell_type": "markdown",
   "metadata": {
    "id": "ZqO0PRcFsPTe",
    "pycharm": {
     "name": "#%% md\n"
    }
   },
   "source": [
    "### Datos\n",
    "El objecto es utilizar datos disponibles del challenge ConvAI2 (Conversational Intelligence Challenge 2) de conversaciones en inglés. Se construirá un BOT para responder a preguntas del usuario (QA).\\\n",
    "[LINK](http://convai.io/data/)"
   ]
  },
  {
   "cell_type": "code",
   "execution_count": 1,
   "metadata": {
    "id": "bDFC0I3j9oFD",
    "pycharm": {
     "name": "#%%\n"
    }
   },
   "outputs": [],
   "source": [
    "!pip install --upgrade --no-cache-dir gdown --quiet"
   ]
  },
  {
   "cell_type": "code",
   "execution_count": 2,
   "metadata": {
    "id": "cq3YXak9sGHd",
    "pycharm": {
     "name": "#%%\n"
    }
   },
   "outputs": [],
   "source": [
    "import re\n",
    "\n",
    "import numpy as np\n",
    "import pandas as pd\n",
    "\n",
    "import tensorflow as tf\n",
    "from keras.preprocessing.text import one_hot\n",
    "from tensorflow.keras.utils import pad_sequences\n",
    "from keras.models import Sequential\n",
    "from keras.layers.core import Activation, Dropout, Dense\n",
    "from keras.layers import Flatten, LSTM, SimpleRNN\n",
    "from keras.models import Model\n",
    "from tensorflow.keras.layers import Embedding\n",
    "from sklearn.model_selection import train_test_split\n",
    "from keras.preprocessing.text import Tokenizer\n",
    "from keras.layers import Input"
   ]
  },
  {
   "cell_type": "code",
   "execution_count": 3,
   "metadata": {
    "id": "RHNkUaPp6aYq",
    "pycharm": {
     "name": "#%%\n"
    }
   },
   "outputs": [
    {
     "name": "stderr",
     "output_type": "stream",
     "text": [
      "Downloading...\n",
      "From: https://drive.google.com/uc?id=1awUxYwImF84MIT5-jCaYAPe2QwSgS1hN&export=download\n",
      "To: /Users/federicotanzi/posgrado/entregas_procesamiento_lenguaje_natural/clase_6/data_volunteers.json\n",
      "100%|██████████| 2.58M/2.58M [00:00<00:00, 18.2MB/s]\n"
     ]
    }
   ],
   "source": [
    "# Descargar la carpeta de dataset\n",
    "import os\n",
    "import gdown\n",
    "if os.access('data_volunteers.json', os.F_OK) is False:\n",
    "    url = 'https://drive.google.com/uc?id=1awUxYwImF84MIT5-jCaYAPe2QwSgS1hN&export=download'\n",
    "    output = 'data_volunteers.json'\n",
    "    gdown.download(url, output, quiet=False)\n",
    "else:\n",
    "    print(\"El dataset ya se encuentra descargado\")"
   ]
  },
  {
   "cell_type": "code",
   "execution_count": 4,
   "metadata": {
    "id": "WZy1-wgG-Rp7",
    "pycharm": {
     "name": "#%%\n"
    }
   },
   "outputs": [],
   "source": [
    "# dataset_file\n",
    "import json\n",
    "\n",
    "text_file = \"data_volunteers.json\"\n",
    "with open(text_file) as f:\n",
    "    data = json.load(f) # la variable data será un diccionario\n",
    "\n"
   ]
  },
  {
   "cell_type": "code",
   "execution_count": 5,
   "metadata": {
    "id": "ue5qd54S-eew",
    "pycharm": {
     "name": "#%%\n"
    }
   },
   "outputs": [
    {
     "data": {
      "text/plain": "dict_keys(['dialog', 'start_time', 'end_time', 'bot_profile', 'user_profile', 'eval_score', 'profile_match', 'participant1_id', 'participant2_id'])"
     },
     "execution_count": 5,
     "metadata": {},
     "output_type": "execute_result"
    }
   ],
   "source": [
    "# Observar los campos disponibles en cada linea del dataset\n",
    "data[0].keys()"
   ]
  },
  {
   "cell_type": "code",
   "execution_count": 6,
   "metadata": {
    "id": "jHBRAXPl-3dz",
    "pycharm": {
     "name": "#%%\n"
    }
   },
   "outputs": [
    {
     "name": "stdout",
     "output_type": "stream",
     "text": [
      "Cantidad de rows utilizadas: 6033\n"
     ]
    }
   ],
   "source": [
    "chat_in = []\n",
    "chat_out = []\n",
    "\n",
    "input_sentences = []\n",
    "output_sentences = []\n",
    "output_sentences_inputs = []\n",
    "max_len = 30\n",
    "\n",
    "def clean_text(txt):\n",
    "    txt = txt.lower()    \n",
    "    txt.replace(\"\\'d\", \" had\")\n",
    "    txt.replace(\"\\'s\", \" is\")\n",
    "    txt.replace(\"\\'m\", \" am\")\n",
    "    txt.replace(\"don't\", \"do not\")\n",
    "    txt = re.sub(r'\\W+', ' ', txt)\n",
    "    \n",
    "    return txt\n",
    "\n",
    "for line in data:\n",
    "    for i in range(len(line['dialog'])-1):\n",
    "        # vamos separando el texto en \"preguntas\" (chat_in)\n",
    "        # y \"respuestas\" (chat_out)\n",
    "        chat_in = clean_text(line['dialog'][i]['text'])\n",
    "        chat_out = clean_text(line['dialog'][i+1]['text'])\n",
    "\n",
    "        if len(chat_in) >= max_len or len(chat_out) >= max_len:\n",
    "            continue\n",
    "\n",
    "        input_sentence, output = chat_in, chat_out\n",
    "        \n",
    "        # output sentence (decoder_output) tiene <eos>\n",
    "        output_sentence = output + ' <eos>'\n",
    "        # output sentence input (decoder_input) tiene <sos>\n",
    "        output_sentence_input = '<sos> ' + output\n",
    "\n",
    "        input_sentences.append(input_sentence)\n",
    "        output_sentences.append(output_sentence)\n",
    "        output_sentences_inputs.append(output_sentence_input)\n",
    "\n",
    "print(\"Cantidad de rows utilizadas:\", len(input_sentences))"
   ]
  },
  {
   "cell_type": "code",
   "execution_count": 7,
   "metadata": {
    "id": "07L1qj8pC_l6",
    "pycharm": {
     "name": "#%%\n"
    }
   },
   "outputs": [
    {
     "data": {
      "text/plain": "('hi how are you ', 'not bad and you  <eos>', '<sos> not bad and you ')"
     },
     "execution_count": 7,
     "metadata": {},
     "output_type": "execute_result"
    }
   ],
   "source": [
    "input_sentences[1], output_sentences[1], output_sentences_inputs[1]"
   ]
  },
  {
   "cell_type": "markdown",
   "metadata": {
    "id": "8P-ynUNP5xp6",
    "pycharm": {
     "name": "#%% md\n"
    }
   },
   "source": [
    "### 2 - Preprocesamiento\n",
    "Realizar el preprocesamiento necesario para obtener:\n",
    "- word2idx_inputs, max_input_len\n",
    "- word2idx_outputs, max_out_len, num_words_output\n",
    "- encoder_input_sequences, decoder_output_sequences, decoder_targets"
   ]
  },
  {
   "cell_type": "code",
   "execution_count": 8,
   "outputs": [],
   "source": [
    "MAX_VOCAB_SIZE = 8000"
   ],
   "metadata": {
    "collapsed": false,
    "pycharm": {
     "name": "#%%\n"
    }
   }
  },
  {
   "cell_type": "code",
   "execution_count": 9,
   "outputs": [
    {
     "name": "stdout",
     "output_type": "stream",
     "text": [
      "Palabras en el vocabulario: 1799\n",
      "Sentencia de entrada más larga: 9\n"
     ]
    }
   ],
   "source": [
    "input_tokenizer = Tokenizer(num_words=MAX_VOCAB_SIZE)\n",
    "input_tokenizer.fit_on_texts(input_sentences)\n",
    "input_integer_seq = input_tokenizer.texts_to_sequences(input_sentences)\n",
    "\n",
    "word2idx_inputs = input_tokenizer.word_index\n",
    "print(\"Palabras en el vocabulario:\", len(word2idx_inputs))\n",
    "\n",
    "max_input_len = max(len(sen) for sen in input_integer_seq)\n",
    "print(\"Sentencia de entrada más larga:\", max_input_len)"
   ],
   "metadata": {
    "collapsed": false,
    "pycharm": {
     "name": "#%%\n"
    }
   }
  },
  {
   "cell_type": "code",
   "execution_count": 10,
   "outputs": [
    {
     "name": "stdout",
     "output_type": "stream",
     "text": [
      "Palabras en el vocabulario: 1806\n",
      "Sentencia de salida más larga: 10\n"
     ]
    }
   ],
   "source": [
    "# A los filtros de símbolos del Tokenizer agregamos el \"¿\",\n",
    "# sacamos los \"<>\" para que no afectar nuestros tokens\n",
    "output_tokenizer = Tokenizer(num_words=MAX_VOCAB_SIZE, filters='!\"#$%&()*+,-./:;=¿?@[\\\\]^_`{|}~\\t\\n')\n",
    "output_tokenizer.fit_on_texts([\"<sos>\", \"<eos>\"] + output_sentences)\n",
    "output_integer_seq = output_tokenizer.texts_to_sequences(output_sentences)\n",
    "output_input_integer_seq = output_tokenizer.texts_to_sequences(output_sentences_inputs)\n",
    "\n",
    "word2idx_outputs = output_tokenizer.word_index\n",
    "print(\"Palabras en el vocabulario:\", len(word2idx_outputs))\n",
    "\n",
    "num_words_output = min(len(word2idx_outputs) + 1, MAX_VOCAB_SIZE) # Se suma 1 por el primer <sos>\n",
    "max_out_len = max(len(sen) for sen in output_integer_seq)\n",
    "print(\"Sentencia de salida más larga:\", max_out_len)"
   ],
   "metadata": {
    "collapsed": false,
    "pycharm": {
     "name": "#%%\n"
    }
   }
  },
  {
   "cell_type": "code",
   "execution_count": 11,
   "outputs": [
    {
     "name": "stdout",
     "output_type": "stream",
     "text": [
      "Cantidad de rows del dataset: 6033\n",
      "encoder_input_sequences shape: (6033, 9)\n",
      "decoder_input_sequences shape: (6033, 10)\n"
     ]
    }
   ],
   "source": [
    "print(\"Cantidad de rows del dataset:\", len(input_integer_seq))\n",
    "\n",
    "encoder_input_sequences = pad_sequences(input_integer_seq, maxlen=max_input_len)\n",
    "print(\"encoder_input_sequences shape:\", encoder_input_sequences.shape)\n",
    "\n",
    "decoder_input_sequences = pad_sequences(output_input_integer_seq, maxlen=max_out_len, padding='post')\n",
    "print(\"decoder_input_sequences shape:\", decoder_input_sequences.shape)"
   ],
   "metadata": {
    "collapsed": false,
    "pycharm": {
     "name": "#%%\n"
    }
   }
  },
  {
   "cell_type": "code",
   "execution_count": 12,
   "outputs": [
    {
     "data": {
      "text/plain": "(6033, 10, 1807)"
     },
     "execution_count": 12,
     "metadata": {},
     "output_type": "execute_result"
    }
   ],
   "source": [
    "from keras.utils.np_utils import to_categorical\n",
    "decoder_output_sequences = pad_sequences(output_integer_seq, maxlen=max_out_len, padding='post')\n",
    "decoder_targets = to_categorical(decoder_output_sequences, num_classes=num_words_output)\n",
    "decoder_targets.shape"
   ],
   "metadata": {
    "collapsed": false,
    "pycharm": {
     "name": "#%%\n"
    }
   }
  },
  {
   "cell_type": "markdown",
   "metadata": {
    "id": "_CJIsLBbj6rg",
    "pycharm": {
     "name": "#%% md\n"
    }
   },
   "source": [
    "### 3 - Preparar los embeddings\n",
    "Utilizar los embeddings de Glove o FastText para transformar los tokens de entrada en vectores"
   ]
  },
  {
   "cell_type": "code",
   "execution_count": 13,
   "outputs": [
    {
     "name": "stderr",
     "output_type": "stream",
     "text": [
      "Downloading...\n",
      "From (uriginal): https://drive.google.com/uc?id=1wlDBOrxPq2-3htQ6ryVo7K1XnzLcfh4r&export=download\n",
      "From (redirected): https://drive.google.com/uc?id=1wlDBOrxPq2-3htQ6ryVo7K1XnzLcfh4r&export=download&confirm=t&uuid=7095b823-17d4-49dc-8557-606b562a5ce3\n",
      "To: /Users/federicotanzi/posgrado/entregas_procesamiento_lenguaje_natural/clase_6/gloveembedding.pkl\n",
      "100%|██████████| 525M/525M [00:44<00:00, 11.8MB/s] \n"
     ]
    }
   ],
   "source": [
    "# Descargar los embeddings desde un gogle drive (es la forma más rápida)\n",
    "# NOTA: No hay garantía de que estos links perduren, en caso de que no estén\n",
    "# disponibles descargar de la página oficial como se explica en el siguiente bloque\n",
    "import os\n",
    "import gdown\n",
    "if os.access('gloveembedding.pkl', os.F_OK) is False:\n",
    "    url = 'https://drive.google.com/uc?id=1wlDBOrxPq2-3htQ6ryVo7K1XnzLcfh4r&export=download'\n",
    "    output = 'gloveembedding.pkl'\n",
    "    gdown.download(url, output, quiet=False)\n",
    "else:\n",
    "    print(\"Los embeddings gloveembedding.pkl ya están descargados\")"
   ],
   "metadata": {
    "collapsed": false,
    "pycharm": {
     "name": "#%%\n"
    }
   }
  },
  {
   "cell_type": "code",
   "execution_count": 16,
   "outputs": [],
   "source": [
    "import logging\n",
    "import os\n",
    "from pathlib import Path\n",
    "import pickle\n",
    "\n",
    "class WordsEmbeddings(object):\n",
    "    logger = logging.getLogger(__name__)\n",
    "\n",
    "    def __init__(self):\n",
    "        # load the embeddings\n",
    "        words_embedding_pkl = Path(self.PKL_PATH)\n",
    "        if not words_embedding_pkl.is_file():\n",
    "            words_embedding_txt = Path(self.WORD_TO_VEC_MODEL_TXT_PATH)\n",
    "            assert words_embedding_txt.is_file(), 'Words embedding not available'\n",
    "            embeddings = self.convert_model_to_pickle()\n",
    "        else:\n",
    "            embeddings = self.load_model_from_pickle()\n",
    "        self.embeddings = embeddings\n",
    "        # build the vocabulary hashmap\n",
    "        index = np.arange(self.embeddings.shape[0])\n",
    "        # Dicctionarios para traducir de embedding a IDX de la palabra\n",
    "        self.word2idx = dict(zip(self.embeddings['word'], index))\n",
    "        self.idx2word = dict(zip(index, self.embeddings['word']))\n",
    "\n",
    "    def get_words_embeddings(self, words):\n",
    "        words_idxs = self.words2idxs(words)\n",
    "        return self.embeddings[words_idxs]['embedding']\n",
    "\n",
    "    def words2idxs(self, words):\n",
    "        return np.array([self.word2idx.get(word, -1) for word in words])\n",
    "\n",
    "    def idxs2words(self, idxs):\n",
    "        return np.array([self.idx2word.get(idx, '-1') for idx in idxs])\n",
    "\n",
    "    def load_model_from_pickle(self):\n",
    "        self.logger.debug(\n",
    "            'loading words embeddings from pickle {}'.format(\n",
    "                self.PKL_PATH\n",
    "            )\n",
    "        )\n",
    "        max_bytes = 2**28 - 1 # 256MB\n",
    "        bytes_in = bytearray(0)\n",
    "        input_size = os.path.getsize(self.PKL_PATH)\n",
    "        with open(self.PKL_PATH, 'rb') as f_in:\n",
    "            for _ in range(0, input_size, max_bytes):\n",
    "                bytes_in += f_in.read(max_bytes)\n",
    "        embeddings = pickle.loads(bytes_in)\n",
    "        self.logger.debug('words embeddings loaded')\n",
    "        return embeddings\n",
    "\n",
    "    def convert_model_to_pickle(self):\n",
    "        # create a numpy strctured array:\n",
    "        # word     embedding\n",
    "        # U50      np.float32[]\n",
    "        # word_1   a, b, c\n",
    "        # word_2   d, e, f\n",
    "        # ...\n",
    "        # word_n   g, h, i\n",
    "        self.logger.debug(\n",
    "            'converting and loading words embeddings from text file {}'.format(\n",
    "                self.WORD_TO_VEC_MODEL_TXT_PATH\n",
    "            )\n",
    "        )\n",
    "        structure = [('word', np.dtype('U' + str(self.WORD_MAX_SIZE))),\n",
    "                     ('embedding', np.float32, (self.N_FEATURES,))]\n",
    "        structure = np.dtype(structure)\n",
    "        # load numpy array from disk using a generator\n",
    "        with open(self.WORD_TO_VEC_MODEL_TXT_PATH, encoding=\"utf8\") as words_embeddings_txt:\n",
    "            embeddings_gen = (\n",
    "                (line.split()[0], line.split()[1:]) for line in words_embeddings_txt\n",
    "                if len(line.split()[1:]) == self.N_FEATURES\n",
    "            )\n",
    "            embeddings = np.fromiter(embeddings_gen, structure)\n",
    "        # add a null embedding\n",
    "        null_embedding = np.array(\n",
    "            [('null_embedding', np.zeros((self.N_FEATURES,), dtype=np.float32))],\n",
    "            dtype=structure\n",
    "        )\n",
    "        embeddings = np.concatenate([embeddings, null_embedding])\n",
    "        # dump numpy array to disk using pickle\n",
    "        max_bytes = 2**28 - 1 # # 256MB\n",
    "        bytes_out = pickle.dumps(embeddings, protocol=pickle.HIGHEST_PROTOCOL)\n",
    "        with open(self.PKL_PATH, 'wb') as f_out:\n",
    "            for idx in range(0, len(bytes_out), max_bytes):\n",
    "                f_out.write(bytes_out[idx:idx+max_bytes])\n",
    "        self.logger.debug('words embeddings loaded')\n",
    "        return embeddings\n",
    "\n",
    "\n",
    "class GloveEmbeddings(WordsEmbeddings):\n",
    "    WORD_TO_VEC_MODEL_TXT_PATH = 'glove.twitter.27B.50d.txt'\n",
    "    PKL_PATH = 'gloveembedding.pkl'\n",
    "    N_FEATURES = 50\n",
    "    WORD_MAX_SIZE = 60\n",
    "\n",
    "\n",
    "class FasttextEmbeddings(WordsEmbeddings):\n",
    "    WORD_TO_VEC_MODEL_TXT_PATH = 'cc.en.300.vec'\n",
    "    PKL_PATH = 'fasttext.pkl'\n",
    "    N_FEATURES = 300\n",
    "    WORD_MAX_SIZE = 60"
   ],
   "metadata": {
    "collapsed": false,
    "pycharm": {
     "name": "#%%\n"
    }
   }
  },
  {
   "cell_type": "code",
   "execution_count": 17,
   "outputs": [],
   "source": [
    "model_embeddings = GloveEmbeddings()"
   ],
   "metadata": {
    "collapsed": false,
    "pycharm": {
     "name": "#%%\n"
    }
   }
  },
  {
   "cell_type": "code",
   "execution_count": 18,
   "outputs": [
    {
     "name": "stdout",
     "output_type": "stream",
     "text": [
      "preparing embedding matrix...\n",
      "number of null word embeddings: 38\n"
     ]
    }
   ],
   "source": [
    "print('preparing embedding matrix...')\n",
    "embed_dim = model_embeddings.N_FEATURES\n",
    "words_not_found = []\n",
    "\n",
    "# word_index provieen del tokenizer\n",
    "\n",
    "nb_words = min(MAX_VOCAB_SIZE, len(word2idx_inputs)) # vocab_size\n",
    "embedding_matrix = np.zeros((nb_words, embed_dim))\n",
    "for word, i in word2idx_inputs.items():\n",
    "    if i >= nb_words:\n",
    "        continue\n",
    "    embedding_vector = model_embeddings.get_words_embeddings(word)[0]\n",
    "    if (embedding_vector is not None) and len(embedding_vector) > 0:\n",
    "\n",
    "        embedding_matrix[i] = embedding_vector\n",
    "    else:\n",
    "        # words not found in embedding index will be all-zeros.\n",
    "        words_not_found.append(word)\n",
    "\n",
    "print('number of null word embeddings:', np.sum(np.sum(embedding_matrix, axis=1) == 0))"
   ],
   "metadata": {
    "collapsed": false,
    "pycharm": {
     "name": "#%%\n"
    }
   }
  },
  {
   "cell_type": "code",
   "execution_count": 19,
   "outputs": [
    {
     "data": {
      "text/plain": "(1799, 50)"
     },
     "execution_count": 19,
     "metadata": {},
     "output_type": "execute_result"
    }
   ],
   "source": [
    "embedding_matrix.shape"
   ],
   "metadata": {
    "collapsed": false,
    "pycharm": {
     "name": "#%%\n"
    }
   }
  },
  {
   "cell_type": "markdown",
   "metadata": {
    "id": "3vKbhjtIwPgM",
    "pycharm": {
     "name": "#%% md\n"
    }
   },
   "source": [
    "### 4 - Entrenar el modelo\n",
    "Entrenar un modelo basado en el esquema encoder-decoder utilizando los datos generados en los puntos anteriores. Utilce como referencias los ejemplos vistos en clase."
   ]
  },
  {
   "cell_type": "code",
   "execution_count": 20,
   "outputs": [
    {
     "name": "stdout",
     "output_type": "stream",
     "text": [
      "Metal device set to: Apple M1 Pro\n",
      "Model: \"model\"\n",
      "__________________________________________________________________________________________________\n",
      " Layer (type)                   Output Shape         Param #     Connected to                     \n",
      "==================================================================================================\n",
      " input_1 (InputLayer)           [(None, 9)]          0           []                               \n",
      "                                                                                                  \n",
      " input_2 (InputLayer)           [(None, 10)]         0           []                               \n",
      "                                                                                                  \n",
      " embedding (Embedding)          (None, 9, 50)        89950       ['input_1[0][0]']                \n",
      "                                                                                                  \n",
      " embedding_1 (Embedding)        (None, 10, 128)      231296      ['input_2[0][0]']                \n",
      "                                                                                                  \n",
      " lstm (LSTM)                    [(None, 128),        91648       ['embedding[0][0]']              \n",
      "                                 (None, 128),                                                     \n",
      "                                 (None, 128)]                                                     \n",
      "                                                                                                  \n",
      " lstm_1 (LSTM)                  [(None, 10, 128),    131584      ['embedding_1[0][0]',            \n",
      "                                 (None, 128),                     'lstm[0][1]',                   \n",
      "                                 (None, 128)]                     'lstm[0][2]']                   \n",
      "                                                                                                  \n",
      " dropout (Dropout)              (None, 10, 128)      0           ['lstm_1[0][0]']                 \n",
      "                                                                                                  \n",
      " dense (Dense)                  (None, 10, 1807)     233103      ['dropout[0][0]']                \n",
      "                                                                                                  \n",
      "==================================================================================================\n",
      "Total params: 777,581\n",
      "Trainable params: 687,631\n",
      "Non-trainable params: 89,950\n",
      "__________________________________________________________________________________________________\n"
     ]
    }
   ],
   "source": [
    "n_units = 128\n",
    "\n",
    "# define training encoder\n",
    "encoder_inputs = Input(shape=(max_input_len))\n",
    "\n",
    "#encoder_embedding_layer = Embedding(num_words, EMBEDDING_SIZE, weights=[embedding_matrix], input_length=max_input_len)\n",
    "\n",
    "encoder_embedding_layer = Embedding(\n",
    "          input_dim=nb_words,  # definido en el Tokenizador\n",
    "          output_dim=embed_dim,  # dimensión de los embeddings utilizados\n",
    "          input_length=max_input_len, # máxima sentencia de entrada\n",
    "          weights=[embedding_matrix],  # matrix de embeddings\n",
    "          trainable=False)      # marcar como layer no entrenable\n",
    "\n",
    "encoder_inputs_x = encoder_embedding_layer(encoder_inputs)\n",
    "\n",
    "encoder = LSTM(n_units, return_state=True)\n",
    "encoder_outputs, state_h, state_c = encoder(encoder_inputs_x)\n",
    "encoder_states = [state_h, state_c]\n",
    "\n",
    "# define training decoder\n",
    "decoder_inputs = Input(shape=(max_out_len))\n",
    "decoder_embedding_layer = Embedding(input_dim=num_words_output, output_dim=n_units, input_length=max_out_len)\n",
    "decoder_inputs_x = decoder_embedding_layer(decoder_inputs)\n",
    "\n",
    "decoder_lstm = LSTM(n_units, return_sequences=True, return_state=True)\n",
    "decoder_outputs, _, _ = decoder_lstm(decoder_inputs_x, initial_state=encoder_states)\n",
    "\n",
    "#Dropout para mejorar el entrenamiento\n",
    "dropout = Dropout(rate=0.8)\n",
    "decoder_outputs = dropout(decoder_outputs)\n",
    "\n",
    "# Dense\n",
    "decoder_dense = Dense(num_words_output, activation='softmax')\n",
    "decoder_outputs = decoder_dense(decoder_outputs)\n",
    "model = Model([encoder_inputs, decoder_inputs], decoder_outputs)\n",
    "\n",
    "model.compile(loss='categorical_crossentropy', optimizer=\"Adam\", metrics=['accuracy'])\n",
    "model.summary()"
   ],
   "metadata": {
    "collapsed": false,
    "pycharm": {
     "name": "#%%\n"
    }
   }
  },
  {
   "cell_type": "code",
   "execution_count": 21,
   "outputs": [],
   "source": [
    "encoder_model = Model(encoder_inputs, encoder_states)"
   ],
   "metadata": {
    "collapsed": false,
    "pycharm": {
     "name": "#%%\n"
    }
   }
  },
  {
   "cell_type": "code",
   "execution_count": 22,
   "outputs": [],
   "source": [
    "decoder_state_input_h = Input(shape=(n_units,))\n",
    "decoder_state_input_c = Input(shape=(n_units,))\n",
    "decoder_states_inputs = [decoder_state_input_h, decoder_state_input_c]\n",
    "\n",
    "decoder_inputs_single = Input(shape=(1,))\n",
    "decoder_inputs_single_x = decoder_embedding_layer(decoder_inputs_single)\n",
    "\n",
    "decoder_outputs, state_h, state_c = decoder_lstm(decoder_inputs_single_x, initial_state=decoder_states_inputs)\n",
    "decoder_states = [state_h, state_c]\n",
    "decoder_outputs = decoder_dense(decoder_outputs)\n",
    "decoder_model = Model([decoder_inputs_single] + decoder_states_inputs, [decoder_outputs] + decoder_states)"
   ],
   "metadata": {
    "collapsed": false,
    "pycharm": {
     "name": "#%%\n"
    }
   }
  },
  {
   "cell_type": "code",
   "execution_count": 23,
   "outputs": [
    {
     "name": "stdout",
     "output_type": "stream",
     "text": [
      "Epoch 1/250\n"
     ]
    },
    {
     "name": "stderr",
     "output_type": "stream",
     "text": [
      "2023-08-17 12:59:34.370577: W tensorflow/tsl/platform/profile_utils/cpu_utils.cc:128] Failed to get CPU frequency: 0 Hz\n"
     ]
    },
    {
     "name": "stdout",
     "output_type": "stream",
     "text": [
      "151/151 [==============================] - 11s 38ms/step - loss: 3.1954 - accuracy: 0.5112 - val_loss: 2.2815 - val_accuracy: 0.6134\n",
      "Epoch 2/250\n",
      "151/151 [==============================] - 4s 26ms/step - loss: 2.1389 - accuracy: 0.6054 - val_loss: 2.1400 - val_accuracy: 0.6329\n",
      "Epoch 3/250\n",
      "151/151 [==============================] - 4s 26ms/step - loss: 1.9590 - accuracy: 0.6431 - val_loss: 2.0277 - val_accuracy: 0.6614\n",
      "Epoch 4/250\n",
      "151/151 [==============================] - 5s 36ms/step - loss: 1.8226 - accuracy: 0.6781 - val_loss: 1.9407 - val_accuracy: 0.6812\n",
      "Epoch 5/250\n",
      "151/151 [==============================] - 5s 30ms/step - loss: 1.7212 - accuracy: 0.6948 - val_loss: 1.8737 - val_accuracy: 0.6872\n",
      "Epoch 6/250\n",
      "151/151 [==============================] - 4s 28ms/step - loss: 1.6476 - accuracy: 0.7060 - val_loss: 1.8338 - val_accuracy: 0.6954\n",
      "Epoch 7/250\n",
      "151/151 [==============================] - 4s 29ms/step - loss: 1.5903 - accuracy: 0.7140 - val_loss: 1.7974 - val_accuracy: 0.6969\n",
      "Epoch 8/250\n",
      "151/151 [==============================] - 4s 29ms/step - loss: 1.5392 - accuracy: 0.7219 - val_loss: 1.7695 - val_accuracy: 0.7075\n",
      "Epoch 9/250\n",
      "151/151 [==============================] - 4s 27ms/step - loss: 1.5044 - accuracy: 0.7278 - val_loss: 1.7416 - val_accuracy: 0.7090\n",
      "Epoch 10/250\n",
      "151/151 [==============================] - 4s 28ms/step - loss: 1.4662 - accuracy: 0.7309 - val_loss: 1.7247 - val_accuracy: 0.7133\n",
      "Epoch 11/250\n",
      "151/151 [==============================] - 5s 31ms/step - loss: 1.4326 - accuracy: 0.7349 - val_loss: 1.7121 - val_accuracy: 0.7147\n",
      "Epoch 12/250\n",
      "151/151 [==============================] - 4s 27ms/step - loss: 1.4123 - accuracy: 0.7385 - val_loss: 1.6989 - val_accuracy: 0.7186\n",
      "Epoch 13/250\n",
      "151/151 [==============================] - 4s 29ms/step - loss: 1.3874 - accuracy: 0.7403 - val_loss: 1.6864 - val_accuracy: 0.7197\n",
      "Epoch 14/250\n",
      "151/151 [==============================] - 4s 27ms/step - loss: 1.3620 - accuracy: 0.7429 - val_loss: 1.6751 - val_accuracy: 0.7210\n",
      "Epoch 15/250\n",
      "151/151 [==============================] - 4s 26ms/step - loss: 1.3487 - accuracy: 0.7443 - val_loss: 1.6682 - val_accuracy: 0.7214\n",
      "Epoch 16/250\n",
      "151/151 [==============================] - 4s 26ms/step - loss: 1.3246 - accuracy: 0.7467 - val_loss: 1.6665 - val_accuracy: 0.7225\n",
      "Epoch 17/250\n",
      "151/151 [==============================] - 4s 28ms/step - loss: 1.3096 - accuracy: 0.7482 - val_loss: 1.6643 - val_accuracy: 0.7248\n",
      "Epoch 18/250\n",
      "151/151 [==============================] - 5s 34ms/step - loss: 1.2948 - accuracy: 0.7491 - val_loss: 1.6556 - val_accuracy: 0.7228\n",
      "Epoch 19/250\n",
      "151/151 [==============================] - 4s 28ms/step - loss: 1.2778 - accuracy: 0.7513 - val_loss: 1.6438 - val_accuracy: 0.7273\n",
      "Epoch 20/250\n",
      "151/151 [==============================] - 4s 28ms/step - loss: 1.2682 - accuracy: 0.7533 - val_loss: 1.6511 - val_accuracy: 0.7282\n",
      "Epoch 21/250\n",
      "151/151 [==============================] - 4s 27ms/step - loss: 1.2555 - accuracy: 0.7537 - val_loss: 1.6458 - val_accuracy: 0.7268\n",
      "Epoch 22/250\n",
      "151/151 [==============================] - 4s 26ms/step - loss: 1.2436 - accuracy: 0.7558 - val_loss: 1.6438 - val_accuracy: 0.7286\n",
      "Epoch 23/250\n",
      "151/151 [==============================] - 4s 25ms/step - loss: 1.2337 - accuracy: 0.7540 - val_loss: 1.6418 - val_accuracy: 0.7303\n",
      "Epoch 24/250\n",
      "151/151 [==============================] - 4s 26ms/step - loss: 1.2236 - accuracy: 0.7558 - val_loss: 1.6439 - val_accuracy: 0.7283\n",
      "Epoch 25/250\n",
      "151/151 [==============================] - 4s 26ms/step - loss: 1.2132 - accuracy: 0.7586 - val_loss: 1.6355 - val_accuracy: 0.7302\n",
      "Epoch 26/250\n",
      "151/151 [==============================] - 4s 26ms/step - loss: 1.2033 - accuracy: 0.7587 - val_loss: 1.6329 - val_accuracy: 0.7298\n",
      "Epoch 27/250\n",
      "151/151 [==============================] - 4s 25ms/step - loss: 1.1895 - accuracy: 0.7607 - val_loss: 1.6329 - val_accuracy: 0.7290\n",
      "Epoch 28/250\n",
      "151/151 [==============================] - 4s 26ms/step - loss: 1.1836 - accuracy: 0.7614 - val_loss: 1.6320 - val_accuracy: 0.7325\n",
      "Epoch 29/250\n",
      "151/151 [==============================] - 4s 25ms/step - loss: 1.1719 - accuracy: 0.7617 - val_loss: 1.6374 - val_accuracy: 0.7320\n",
      "Epoch 30/250\n",
      "151/151 [==============================] - 4s 25ms/step - loss: 1.1662 - accuracy: 0.7638 - val_loss: 1.6320 - val_accuracy: 0.7305\n",
      "Epoch 31/250\n",
      "151/151 [==============================] - 4s 25ms/step - loss: 1.1554 - accuracy: 0.7624 - val_loss: 1.6305 - val_accuracy: 0.7323\n",
      "Epoch 32/250\n",
      "151/151 [==============================] - 4s 25ms/step - loss: 1.1487 - accuracy: 0.7657 - val_loss: 1.6346 - val_accuracy: 0.7337\n",
      "Epoch 33/250\n",
      "151/151 [==============================] - 4s 27ms/step - loss: 1.1424 - accuracy: 0.7657 - val_loss: 1.6459 - val_accuracy: 0.7325\n",
      "Epoch 34/250\n",
      "151/151 [==============================] - 4s 28ms/step - loss: 1.1308 - accuracy: 0.7677 - val_loss: 1.6483 - val_accuracy: 0.7316\n",
      "Epoch 35/250\n",
      "151/151 [==============================] - 4s 27ms/step - loss: 1.1260 - accuracy: 0.7668 - val_loss: 1.6441 - val_accuracy: 0.7326\n",
      "Epoch 36/250\n",
      "151/151 [==============================] - 4s 28ms/step - loss: 1.1203 - accuracy: 0.7671 - val_loss: 1.6474 - val_accuracy: 0.7307\n",
      "Epoch 37/250\n",
      "151/151 [==============================] - 5s 34ms/step - loss: 1.1069 - accuracy: 0.7694 - val_loss: 1.6557 - val_accuracy: 0.7324\n",
      "Epoch 38/250\n",
      "151/151 [==============================] - 4s 29ms/step - loss: 1.1006 - accuracy: 0.7696 - val_loss: 1.6449 - val_accuracy: 0.7341\n",
      "Epoch 39/250\n",
      "151/151 [==============================] - 4s 29ms/step - loss: 1.0937 - accuracy: 0.7711 - val_loss: 1.6583 - val_accuracy: 0.7333\n",
      "Epoch 40/250\n",
      "151/151 [==============================] - 5s 36ms/step - loss: 1.0903 - accuracy: 0.7703 - val_loss: 1.6503 - val_accuracy: 0.7347\n",
      "Epoch 41/250\n",
      "151/151 [==============================] - 5s 31ms/step - loss: 1.0823 - accuracy: 0.7722 - val_loss: 1.6522 - val_accuracy: 0.7324\n",
      "Epoch 42/250\n",
      "151/151 [==============================] - 4s 29ms/step - loss: 1.0786 - accuracy: 0.7720 - val_loss: 1.6563 - val_accuracy: 0.7333\n",
      "Epoch 43/250\n",
      "151/151 [==============================] - 4s 27ms/step - loss: 1.0705 - accuracy: 0.7726 - val_loss: 1.6558 - val_accuracy: 0.7331\n",
      "Epoch 44/250\n",
      "151/151 [==============================] - 5s 32ms/step - loss: 1.0659 - accuracy: 0.7743 - val_loss: 1.6575 - val_accuracy: 0.7361\n",
      "Epoch 45/250\n",
      "151/151 [==============================] - 4s 30ms/step - loss: 1.0572 - accuracy: 0.7750 - val_loss: 1.6737 - val_accuracy: 0.7343\n",
      "Epoch 46/250\n",
      "151/151 [==============================] - 5s 34ms/step - loss: 1.0542 - accuracy: 0.7755 - val_loss: 1.6665 - val_accuracy: 0.7341\n",
      "Epoch 47/250\n",
      "151/151 [==============================] - 6s 37ms/step - loss: 1.0475 - accuracy: 0.7765 - val_loss: 1.6652 - val_accuracy: 0.7342\n",
      "Epoch 48/250\n",
      "151/151 [==============================] - 4s 29ms/step - loss: 1.0420 - accuracy: 0.7763 - val_loss: 1.6690 - val_accuracy: 0.7344\n",
      "Epoch 49/250\n",
      "151/151 [==============================] - 4s 27ms/step - loss: 1.0375 - accuracy: 0.7771 - val_loss: 1.6714 - val_accuracy: 0.7327\n",
      "Epoch 50/250\n",
      "151/151 [==============================] - 4s 27ms/step - loss: 1.0323 - accuracy: 0.7785 - val_loss: 1.6864 - val_accuracy: 0.7341\n",
      "Epoch 51/250\n",
      "151/151 [==============================] - 4s 27ms/step - loss: 1.0313 - accuracy: 0.7778 - val_loss: 1.6727 - val_accuracy: 0.7352\n",
      "Epoch 52/250\n",
      "151/151 [==============================] - 4s 27ms/step - loss: 1.0248 - accuracy: 0.7776 - val_loss: 1.6994 - val_accuracy: 0.7358\n",
      "Epoch 53/250\n",
      "151/151 [==============================] - 4s 27ms/step - loss: 1.0170 - accuracy: 0.7794 - val_loss: 1.6898 - val_accuracy: 0.7355\n",
      "Epoch 54/250\n",
      "151/151 [==============================] - 4s 27ms/step - loss: 1.0154 - accuracy: 0.7797 - val_loss: 1.6948 - val_accuracy: 0.7362\n",
      "Epoch 55/250\n",
      "151/151 [==============================] - 4s 26ms/step - loss: 1.0083 - accuracy: 0.7818 - val_loss: 1.6890 - val_accuracy: 0.7353\n",
      "Epoch 56/250\n",
      "151/151 [==============================] - 4s 26ms/step - loss: 1.0059 - accuracy: 0.7810 - val_loss: 1.7153 - val_accuracy: 0.7360\n",
      "Epoch 57/250\n",
      "151/151 [==============================] - 4s 26ms/step - loss: 0.9990 - accuracy: 0.7821 - val_loss: 1.7061 - val_accuracy: 0.7352\n",
      "Epoch 58/250\n",
      "151/151 [==============================] - 4s 26ms/step - loss: 0.9956 - accuracy: 0.7811 - val_loss: 1.7007 - val_accuracy: 0.7345\n",
      "Epoch 59/250\n",
      "151/151 [==============================] - 4s 26ms/step - loss: 0.9909 - accuracy: 0.7826 - val_loss: 1.7076 - val_accuracy: 0.7360\n",
      "Epoch 60/250\n",
      "151/151 [==============================] - 4s 26ms/step - loss: 0.9861 - accuracy: 0.7846 - val_loss: 1.7208 - val_accuracy: 0.7374\n",
      "Epoch 61/250\n",
      "151/151 [==============================] - 4s 26ms/step - loss: 0.9815 - accuracy: 0.7844 - val_loss: 1.7220 - val_accuracy: 0.7370\n",
      "Epoch 62/250\n",
      "151/151 [==============================] - 4s 26ms/step - loss: 0.9808 - accuracy: 0.7833 - val_loss: 1.7322 - val_accuracy: 0.7360\n",
      "Epoch 63/250\n",
      "151/151 [==============================] - 4s 26ms/step - loss: 0.9717 - accuracy: 0.7854 - val_loss: 1.7304 - val_accuracy: 0.7362\n",
      "Epoch 64/250\n",
      "151/151 [==============================] - 4s 26ms/step - loss: 0.9681 - accuracy: 0.7869 - val_loss: 1.7321 - val_accuracy: 0.7355\n",
      "Epoch 65/250\n",
      "151/151 [==============================] - 4s 26ms/step - loss: 0.9652 - accuracy: 0.7868 - val_loss: 1.7267 - val_accuracy: 0.7371\n",
      "Epoch 66/250\n",
      "151/151 [==============================] - 6s 37ms/step - loss: 0.9646 - accuracy: 0.7875 - val_loss: 1.7502 - val_accuracy: 0.7344\n",
      "Epoch 67/250\n",
      "151/151 [==============================] - 5s 30ms/step - loss: 0.9605 - accuracy: 0.7873 - val_loss: 1.7340 - val_accuracy: 0.7374\n",
      "Epoch 68/250\n",
      "151/151 [==============================] - 4s 27ms/step - loss: 0.9569 - accuracy: 0.7864 - val_loss: 1.7510 - val_accuracy: 0.7370\n",
      "Epoch 69/250\n",
      "151/151 [==============================] - 4s 27ms/step - loss: 0.9537 - accuracy: 0.7864 - val_loss: 1.7491 - val_accuracy: 0.7391\n",
      "Epoch 70/250\n",
      "151/151 [==============================] - 4s 27ms/step - loss: 0.9454 - accuracy: 0.7893 - val_loss: 1.7607 - val_accuracy: 0.7351\n",
      "Epoch 71/250\n",
      "151/151 [==============================] - 4s 28ms/step - loss: 0.9446 - accuracy: 0.7895 - val_loss: 1.7727 - val_accuracy: 0.7373\n",
      "Epoch 72/250\n",
      "151/151 [==============================] - 4s 28ms/step - loss: 0.9393 - accuracy: 0.7895 - val_loss: 1.7701 - val_accuracy: 0.7368\n",
      "Epoch 73/250\n",
      "151/151 [==============================] - 4s 27ms/step - loss: 0.9374 - accuracy: 0.7910 - val_loss: 1.7763 - val_accuracy: 0.7370\n",
      "Epoch 74/250\n",
      "151/151 [==============================] - 4s 27ms/step - loss: 0.9338 - accuracy: 0.7910 - val_loss: 1.7657 - val_accuracy: 0.7369\n",
      "Epoch 75/250\n",
      "151/151 [==============================] - 4s 27ms/step - loss: 0.9302 - accuracy: 0.7915 - val_loss: 1.7890 - val_accuracy: 0.7365\n",
      "Epoch 76/250\n",
      "151/151 [==============================] - 4s 26ms/step - loss: 0.9250 - accuracy: 0.7932 - val_loss: 1.7806 - val_accuracy: 0.7367\n",
      "Epoch 77/250\n",
      "151/151 [==============================] - 4s 26ms/step - loss: 0.9204 - accuracy: 0.7919 - val_loss: 1.7864 - val_accuracy: 0.7365\n",
      "Epoch 78/250\n",
      "151/151 [==============================] - 4s 26ms/step - loss: 0.9188 - accuracy: 0.7941 - val_loss: 1.7919 - val_accuracy: 0.7371\n",
      "Epoch 79/250\n",
      "151/151 [==============================] - 4s 26ms/step - loss: 0.9168 - accuracy: 0.7929 - val_loss: 1.8047 - val_accuracy: 0.7354\n",
      "Epoch 80/250\n",
      "151/151 [==============================] - 4s 27ms/step - loss: 0.9149 - accuracy: 0.7940 - val_loss: 1.8039 - val_accuracy: 0.7345\n",
      "Epoch 81/250\n",
      "151/151 [==============================] - 4s 27ms/step - loss: 0.9106 - accuracy: 0.7955 - val_loss: 1.8145 - val_accuracy: 0.7359\n",
      "Epoch 82/250\n",
      "151/151 [==============================] - 4s 26ms/step - loss: 0.9067 - accuracy: 0.7948 - val_loss: 1.8106 - val_accuracy: 0.7367\n",
      "Epoch 83/250\n",
      "151/151 [==============================] - 4s 26ms/step - loss: 0.8984 - accuracy: 0.7953 - val_loss: 1.8059 - val_accuracy: 0.7361\n",
      "Epoch 84/250\n",
      "151/151 [==============================] - 4s 26ms/step - loss: 0.8970 - accuracy: 0.7967 - val_loss: 1.8159 - val_accuracy: 0.7373\n",
      "Epoch 85/250\n",
      "151/151 [==============================] - 4s 26ms/step - loss: 0.8950 - accuracy: 0.7966 - val_loss: 1.8302 - val_accuracy: 0.7355\n",
      "Epoch 86/250\n",
      "151/151 [==============================] - 4s 26ms/step - loss: 0.8913 - accuracy: 0.7976 - val_loss: 1.8202 - val_accuracy: 0.7350\n",
      "Epoch 87/250\n",
      "151/151 [==============================] - 4s 26ms/step - loss: 0.8907 - accuracy: 0.7965 - val_loss: 1.8340 - val_accuracy: 0.7360\n",
      "Epoch 88/250\n",
      "151/151 [==============================] - 4s 26ms/step - loss: 0.8918 - accuracy: 0.7968 - val_loss: 1.8255 - val_accuracy: 0.7350\n",
      "Epoch 89/250\n",
      "151/151 [==============================] - 4s 26ms/step - loss: 0.8835 - accuracy: 0.7989 - val_loss: 1.8392 - val_accuracy: 0.7341\n",
      "Epoch 90/250\n",
      "151/151 [==============================] - 4s 26ms/step - loss: 0.8844 - accuracy: 0.7978 - val_loss: 1.8442 - val_accuracy: 0.7368\n",
      "Epoch 91/250\n",
      "151/151 [==============================] - 4s 26ms/step - loss: 0.8740 - accuracy: 0.7995 - val_loss: 1.8326 - val_accuracy: 0.7349\n",
      "Epoch 92/250\n",
      "151/151 [==============================] - 4s 26ms/step - loss: 0.8752 - accuracy: 0.8000 - val_loss: 1.8459 - val_accuracy: 0.7349\n",
      "Epoch 93/250\n",
      "151/151 [==============================] - 4s 26ms/step - loss: 0.8744 - accuracy: 0.8006 - val_loss: 1.8480 - val_accuracy: 0.7354\n",
      "Epoch 94/250\n",
      "151/151 [==============================] - 4s 26ms/step - loss: 0.8718 - accuracy: 0.8000 - val_loss: 1.8534 - val_accuracy: 0.7365\n",
      "Epoch 95/250\n",
      "151/151 [==============================] - 4s 26ms/step - loss: 0.8658 - accuracy: 0.8018 - val_loss: 1.8655 - val_accuracy: 0.7379\n",
      "Epoch 96/250\n",
      "151/151 [==============================] - 4s 26ms/step - loss: 0.8670 - accuracy: 0.8007 - val_loss: 1.8669 - val_accuracy: 0.7353\n",
      "Epoch 97/250\n",
      "151/151 [==============================] - 4s 26ms/step - loss: 0.8588 - accuracy: 0.8021 - val_loss: 1.8564 - val_accuracy: 0.7358\n",
      "Epoch 98/250\n",
      "151/151 [==============================] - 4s 26ms/step - loss: 0.8580 - accuracy: 0.8037 - val_loss: 1.8875 - val_accuracy: 0.7355\n",
      "Epoch 99/250\n",
      "151/151 [==============================] - 4s 26ms/step - loss: 0.8576 - accuracy: 0.8032 - val_loss: 1.8790 - val_accuracy: 0.7350\n",
      "Epoch 100/250\n",
      "151/151 [==============================] - 4s 26ms/step - loss: 0.8576 - accuracy: 0.8025 - val_loss: 1.8681 - val_accuracy: 0.7365\n",
      "Epoch 101/250\n",
      "151/151 [==============================] - 4s 26ms/step - loss: 0.8512 - accuracy: 0.8040 - val_loss: 1.8858 - val_accuracy: 0.7351\n",
      "Epoch 102/250\n",
      "151/151 [==============================] - 4s 26ms/step - loss: 0.8479 - accuracy: 0.8048 - val_loss: 1.8931 - val_accuracy: 0.7355\n",
      "Epoch 103/250\n",
      "151/151 [==============================] - 4s 26ms/step - loss: 0.8477 - accuracy: 0.8038 - val_loss: 1.8811 - val_accuracy: 0.7345\n",
      "Epoch 104/250\n",
      "151/151 [==============================] - 4s 26ms/step - loss: 0.8466 - accuracy: 0.8031 - val_loss: 1.8804 - val_accuracy: 0.7332\n",
      "Epoch 105/250\n",
      "151/151 [==============================] - 4s 26ms/step - loss: 0.8417 - accuracy: 0.8047 - val_loss: 1.9106 - val_accuracy: 0.7345\n",
      "Epoch 106/250\n",
      "151/151 [==============================] - 4s 26ms/step - loss: 0.8413 - accuracy: 0.8051 - val_loss: 1.9104 - val_accuracy: 0.7336\n",
      "Epoch 107/250\n",
      "151/151 [==============================] - 4s 26ms/step - loss: 0.8351 - accuracy: 0.8057 - val_loss: 1.8866 - val_accuracy: 0.7326\n",
      "Epoch 108/250\n",
      "151/151 [==============================] - 4s 26ms/step - loss: 0.8340 - accuracy: 0.8054 - val_loss: 1.9080 - val_accuracy: 0.7345\n",
      "Epoch 109/250\n",
      "151/151 [==============================] - 4s 26ms/step - loss: 0.8339 - accuracy: 0.8067 - val_loss: 1.8983 - val_accuracy: 0.7332\n",
      "Epoch 110/250\n",
      "151/151 [==============================] - 4s 26ms/step - loss: 0.8306 - accuracy: 0.8064 - val_loss: 1.9136 - val_accuracy: 0.7347\n",
      "Epoch 111/250\n",
      "151/151 [==============================] - 4s 26ms/step - loss: 0.8285 - accuracy: 0.8106 - val_loss: 1.9103 - val_accuracy: 0.7341\n",
      "Epoch 112/250\n",
      "151/151 [==============================] - 4s 26ms/step - loss: 0.8223 - accuracy: 0.8084 - val_loss: 1.9086 - val_accuracy: 0.7345\n",
      "Epoch 113/250\n",
      "151/151 [==============================] - 4s 26ms/step - loss: 0.8232 - accuracy: 0.8078 - val_loss: 1.9221 - val_accuracy: 0.7329\n",
      "Epoch 114/250\n",
      "151/151 [==============================] - 4s 26ms/step - loss: 0.8196 - accuracy: 0.8087 - val_loss: 1.9190 - val_accuracy: 0.7344\n",
      "Epoch 115/250\n",
      "151/151 [==============================] - 4s 26ms/step - loss: 0.8196 - accuracy: 0.8094 - val_loss: 1.9175 - val_accuracy: 0.7336\n",
      "Epoch 116/250\n",
      "151/151 [==============================] - 4s 26ms/step - loss: 0.8181 - accuracy: 0.8088 - val_loss: 1.9286 - val_accuracy: 0.7338\n",
      "Epoch 117/250\n",
      "151/151 [==============================] - 4s 26ms/step - loss: 0.8095 - accuracy: 0.8098 - val_loss: 1.9389 - val_accuracy: 0.7351\n",
      "Epoch 118/250\n",
      "151/151 [==============================] - 4s 26ms/step - loss: 0.8048 - accuracy: 0.8100 - val_loss: 1.9427 - val_accuracy: 0.7360\n",
      "Epoch 119/250\n",
      "151/151 [==============================] - 4s 26ms/step - loss: 0.8091 - accuracy: 0.8092 - val_loss: 1.9220 - val_accuracy: 0.7336\n",
      "Epoch 120/250\n",
      "151/151 [==============================] - 4s 26ms/step - loss: 0.8042 - accuracy: 0.8102 - val_loss: 1.9404 - val_accuracy: 0.7336\n",
      "Epoch 121/250\n",
      "151/151 [==============================] - 4s 26ms/step - loss: 0.8030 - accuracy: 0.8106 - val_loss: 1.9512 - val_accuracy: 0.7336\n",
      "Epoch 122/250\n",
      "151/151 [==============================] - 4s 26ms/step - loss: 0.8042 - accuracy: 0.8112 - val_loss: 1.9474 - val_accuracy: 0.7359\n",
      "Epoch 123/250\n",
      "151/151 [==============================] - 4s 26ms/step - loss: 0.7981 - accuracy: 0.8137 - val_loss: 1.9629 - val_accuracy: 0.7351\n",
      "Epoch 124/250\n",
      "151/151 [==============================] - 4s 26ms/step - loss: 0.7974 - accuracy: 0.8127 - val_loss: 1.9600 - val_accuracy: 0.7341\n",
      "Epoch 125/250\n",
      "151/151 [==============================] - 4s 26ms/step - loss: 0.7926 - accuracy: 0.8130 - val_loss: 1.9665 - val_accuracy: 0.7355\n",
      "Epoch 126/250\n",
      "151/151 [==============================] - 4s 26ms/step - loss: 0.7928 - accuracy: 0.8138 - val_loss: 1.9642 - val_accuracy: 0.7355\n",
      "Epoch 127/250\n",
      "151/151 [==============================] - 4s 26ms/step - loss: 0.7928 - accuracy: 0.8143 - val_loss: 1.9616 - val_accuracy: 0.7337\n",
      "Epoch 128/250\n",
      "151/151 [==============================] - 4s 26ms/step - loss: 0.7855 - accuracy: 0.8152 - val_loss: 1.9639 - val_accuracy: 0.7339\n",
      "Epoch 129/250\n",
      "151/151 [==============================] - 4s 26ms/step - loss: 0.7870 - accuracy: 0.8147 - val_loss: 1.9800 - val_accuracy: 0.7352\n",
      "Epoch 130/250\n",
      "151/151 [==============================] - 4s 26ms/step - loss: 0.7870 - accuracy: 0.8140 - val_loss: 1.9756 - val_accuracy: 0.7351\n",
      "Epoch 131/250\n",
      "151/151 [==============================] - 4s 26ms/step - loss: 0.7835 - accuracy: 0.8158 - val_loss: 1.9768 - val_accuracy: 0.7351\n",
      "Epoch 132/250\n",
      "151/151 [==============================] - 4s 26ms/step - loss: 0.7807 - accuracy: 0.8155 - val_loss: 1.9834 - val_accuracy: 0.7346\n",
      "Epoch 133/250\n",
      "151/151 [==============================] - 4s 26ms/step - loss: 0.7776 - accuracy: 0.8160 - val_loss: 1.9917 - val_accuracy: 0.7369\n",
      "Epoch 134/250\n",
      "151/151 [==============================] - 4s 26ms/step - loss: 0.7747 - accuracy: 0.8164 - val_loss: 1.9972 - val_accuracy: 0.7329\n",
      "Epoch 135/250\n",
      "151/151 [==============================] - 4s 26ms/step - loss: 0.7763 - accuracy: 0.8154 - val_loss: 1.9912 - val_accuracy: 0.7332\n",
      "Epoch 136/250\n",
      "151/151 [==============================] - 4s 26ms/step - loss: 0.7689 - accuracy: 0.8176 - val_loss: 2.0157 - val_accuracy: 0.7345\n",
      "Epoch 137/250\n",
      "151/151 [==============================] - 4s 26ms/step - loss: 0.7739 - accuracy: 0.8179 - val_loss: 2.0030 - val_accuracy: 0.7335\n",
      "Epoch 138/250\n",
      "151/151 [==============================] - 4s 26ms/step - loss: 0.7728 - accuracy: 0.8171 - val_loss: 2.0063 - val_accuracy: 0.7337\n",
      "Epoch 139/250\n",
      "151/151 [==============================] - 4s 26ms/step - loss: 0.7740 - accuracy: 0.8165 - val_loss: 1.9927 - val_accuracy: 0.7341\n",
      "Epoch 140/250\n",
      "151/151 [==============================] - 4s 26ms/step - loss: 0.7682 - accuracy: 0.8162 - val_loss: 1.9949 - val_accuracy: 0.7325\n",
      "Epoch 141/250\n",
      "151/151 [==============================] - 4s 26ms/step - loss: 0.7633 - accuracy: 0.8185 - val_loss: 2.0085 - val_accuracy: 0.7322\n",
      "Epoch 142/250\n",
      "151/151 [==============================] - 4s 26ms/step - loss: 0.7585 - accuracy: 0.8184 - val_loss: 2.0000 - val_accuracy: 0.7318\n",
      "Epoch 143/250\n",
      "151/151 [==============================] - 4s 26ms/step - loss: 0.7611 - accuracy: 0.8186 - val_loss: 2.0092 - val_accuracy: 0.7337\n",
      "Epoch 144/250\n",
      "151/151 [==============================] - 4s 26ms/step - loss: 0.7573 - accuracy: 0.8206 - val_loss: 2.0160 - val_accuracy: 0.7344\n",
      "Epoch 145/250\n",
      "151/151 [==============================] - 4s 26ms/step - loss: 0.7545 - accuracy: 0.8190 - val_loss: 2.0097 - val_accuracy: 0.7345\n",
      "Epoch 146/250\n",
      "151/151 [==============================] - 4s 26ms/step - loss: 0.7562 - accuracy: 0.8196 - val_loss: 2.0190 - val_accuracy: 0.7341\n",
      "Epoch 147/250\n",
      "151/151 [==============================] - 4s 26ms/step - loss: 0.7537 - accuracy: 0.8202 - val_loss: 2.0332 - val_accuracy: 0.7338\n",
      "Epoch 148/250\n",
      "151/151 [==============================] - 4s 26ms/step - loss: 0.7523 - accuracy: 0.8204 - val_loss: 2.0353 - val_accuracy: 0.7340\n",
      "Epoch 149/250\n",
      "151/151 [==============================] - 4s 26ms/step - loss: 0.7529 - accuracy: 0.8203 - val_loss: 2.0292 - val_accuracy: 0.7336\n",
      "Epoch 150/250\n",
      "151/151 [==============================] - 4s 26ms/step - loss: 0.7473 - accuracy: 0.8217 - val_loss: 2.0353 - val_accuracy: 0.7322\n",
      "Epoch 151/250\n",
      "151/151 [==============================] - 4s 26ms/step - loss: 0.7468 - accuracy: 0.8212 - val_loss: 2.0221 - val_accuracy: 0.7311\n",
      "Epoch 152/250\n",
      "151/151 [==============================] - 4s 26ms/step - loss: 0.7406 - accuracy: 0.8223 - val_loss: 2.0198 - val_accuracy: 0.7329\n",
      "Epoch 153/250\n",
      "151/151 [==============================] - 4s 26ms/step - loss: 0.7394 - accuracy: 0.8220 - val_loss: 2.0384 - val_accuracy: 0.7323\n",
      "Epoch 154/250\n",
      "151/151 [==============================] - 4s 26ms/step - loss: 0.7399 - accuracy: 0.8227 - val_loss: 2.0467 - val_accuracy: 0.7351\n",
      "Epoch 155/250\n",
      "151/151 [==============================] - 4s 26ms/step - loss: 0.7374 - accuracy: 0.8228 - val_loss: 2.0613 - val_accuracy: 0.7338\n",
      "Epoch 156/250\n",
      "151/151 [==============================] - 4s 26ms/step - loss: 0.7356 - accuracy: 0.8235 - val_loss: 2.0462 - val_accuracy: 0.7326\n",
      "Epoch 157/250\n",
      "151/151 [==============================] - 4s 26ms/step - loss: 0.7328 - accuracy: 0.8237 - val_loss: 2.0679 - val_accuracy: 0.7325\n",
      "Epoch 158/250\n",
      "151/151 [==============================] - 4s 26ms/step - loss: 0.7333 - accuracy: 0.8237 - val_loss: 2.0525 - val_accuracy: 0.7334\n",
      "Epoch 159/250\n",
      "151/151 [==============================] - 4s 26ms/step - loss: 0.7307 - accuracy: 0.8236 - val_loss: 2.0555 - val_accuracy: 0.7341\n",
      "Epoch 160/250\n",
      "151/151 [==============================] - 4s 26ms/step - loss: 0.7329 - accuracy: 0.8244 - val_loss: 2.0661 - val_accuracy: 0.7330\n",
      "Epoch 161/250\n",
      "151/151 [==============================] - 4s 26ms/step - loss: 0.7258 - accuracy: 0.8243 - val_loss: 2.0573 - val_accuracy: 0.7326\n",
      "Epoch 162/250\n",
      "151/151 [==============================] - 4s 26ms/step - loss: 0.7260 - accuracy: 0.8243 - val_loss: 2.0780 - val_accuracy: 0.7329\n",
      "Epoch 163/250\n",
      "151/151 [==============================] - 4s 26ms/step - loss: 0.7272 - accuracy: 0.8246 - val_loss: 2.0722 - val_accuracy: 0.7326\n",
      "Epoch 164/250\n",
      "151/151 [==============================] - 4s 26ms/step - loss: 0.7205 - accuracy: 0.8273 - val_loss: 2.0626 - val_accuracy: 0.7329\n",
      "Epoch 165/250\n",
      "151/151 [==============================] - 4s 25ms/step - loss: 0.7252 - accuracy: 0.8249 - val_loss: 2.1023 - val_accuracy: 0.7330\n",
      "Epoch 166/250\n",
      "151/151 [==============================] - 4s 26ms/step - loss: 0.7244 - accuracy: 0.8238 - val_loss: 2.0707 - val_accuracy: 0.7331\n",
      "Epoch 167/250\n",
      "151/151 [==============================] - 4s 26ms/step - loss: 0.7217 - accuracy: 0.8251 - val_loss: 2.1044 - val_accuracy: 0.7341\n",
      "Epoch 168/250\n",
      "151/151 [==============================] - 4s 30ms/step - loss: 0.7166 - accuracy: 0.8262 - val_loss: 2.0902 - val_accuracy: 0.7324\n",
      "Epoch 169/250\n",
      "151/151 [==============================] - 4s 26ms/step - loss: 0.7163 - accuracy: 0.8275 - val_loss: 2.0969 - val_accuracy: 0.7335\n",
      "Epoch 170/250\n",
      "151/151 [==============================] - 4s 26ms/step - loss: 0.7129 - accuracy: 0.8276 - val_loss: 2.1001 - val_accuracy: 0.7331\n",
      "Epoch 171/250\n",
      "151/151 [==============================] - 4s 26ms/step - loss: 0.7149 - accuracy: 0.8272 - val_loss: 2.0975 - val_accuracy: 0.7344\n",
      "Epoch 172/250\n",
      "151/151 [==============================] - 4s 26ms/step - loss: 0.7158 - accuracy: 0.8268 - val_loss: 2.1288 - val_accuracy: 0.7327\n",
      "Epoch 173/250\n",
      "151/151 [==============================] - 4s 26ms/step - loss: 0.7119 - accuracy: 0.8285 - val_loss: 2.0941 - val_accuracy: 0.7336\n",
      "Epoch 174/250\n",
      "151/151 [==============================] - 4s 26ms/step - loss: 0.7145 - accuracy: 0.8268 - val_loss: 2.0835 - val_accuracy: 0.7326\n",
      "Epoch 175/250\n",
      "151/151 [==============================] - 4s 26ms/step - loss: 0.7114 - accuracy: 0.8280 - val_loss: 2.1323 - val_accuracy: 0.7334\n",
      "Epoch 176/250\n",
      "151/151 [==============================] - 4s 26ms/step - loss: 0.7090 - accuracy: 0.8283 - val_loss: 2.0990 - val_accuracy: 0.7330\n",
      "Epoch 177/250\n",
      "151/151 [==============================] - 4s 26ms/step - loss: 0.7055 - accuracy: 0.8284 - val_loss: 2.1083 - val_accuracy: 0.7328\n",
      "Epoch 178/250\n",
      "151/151 [==============================] - 4s 26ms/step - loss: 0.7018 - accuracy: 0.8289 - val_loss: 2.1137 - val_accuracy: 0.7335\n",
      "Epoch 179/250\n",
      "151/151 [==============================] - 4s 26ms/step - loss: 0.7024 - accuracy: 0.8295 - val_loss: 2.1009 - val_accuracy: 0.7331\n",
      "Epoch 180/250\n",
      "151/151 [==============================] - 4s 26ms/step - loss: 0.7050 - accuracy: 0.8293 - val_loss: 2.0970 - val_accuracy: 0.7314\n",
      "Epoch 181/250\n",
      "151/151 [==============================] - 4s 26ms/step - loss: 0.7016 - accuracy: 0.8298 - val_loss: 2.1357 - val_accuracy: 0.7321\n",
      "Epoch 182/250\n",
      "151/151 [==============================] - 4s 26ms/step - loss: 0.6981 - accuracy: 0.8299 - val_loss: 2.1147 - val_accuracy: 0.7312\n",
      "Epoch 183/250\n",
      "151/151 [==============================] - 4s 26ms/step - loss: 0.6974 - accuracy: 0.8306 - val_loss: 2.1276 - val_accuracy: 0.7315\n",
      "Epoch 184/250\n",
      "151/151 [==============================] - 4s 26ms/step - loss: 0.6970 - accuracy: 0.8315 - val_loss: 2.1176 - val_accuracy: 0.7312\n",
      "Epoch 185/250\n",
      "151/151 [==============================] - 4s 26ms/step - loss: 0.6954 - accuracy: 0.8301 - val_loss: 2.1362 - val_accuracy: 0.7316\n",
      "Epoch 186/250\n",
      "151/151 [==============================] - 4s 26ms/step - loss: 0.6977 - accuracy: 0.8289 - val_loss: 2.1257 - val_accuracy: 0.7311\n",
      "Epoch 187/250\n",
      "151/151 [==============================] - 4s 26ms/step - loss: 0.6923 - accuracy: 0.8307 - val_loss: 2.1264 - val_accuracy: 0.7319\n",
      "Epoch 188/250\n",
      "151/151 [==============================] - 4s 26ms/step - loss: 0.6918 - accuracy: 0.8324 - val_loss: 2.1393 - val_accuracy: 0.7330\n",
      "Epoch 189/250\n",
      "151/151 [==============================] - 4s 26ms/step - loss: 0.6867 - accuracy: 0.8333 - val_loss: 2.1508 - val_accuracy: 0.7325\n",
      "Epoch 190/250\n",
      "151/151 [==============================] - 4s 26ms/step - loss: 0.6925 - accuracy: 0.8314 - val_loss: 2.1366 - val_accuracy: 0.7325\n",
      "Epoch 191/250\n",
      "151/151 [==============================] - 4s 26ms/step - loss: 0.6898 - accuracy: 0.8321 - val_loss: 2.1361 - val_accuracy: 0.7317\n",
      "Epoch 192/250\n",
      "151/151 [==============================] - 4s 26ms/step - loss: 0.6849 - accuracy: 0.8331 - val_loss: 2.1281 - val_accuracy: 0.7307\n",
      "Epoch 193/250\n",
      "151/151 [==============================] - 4s 26ms/step - loss: 0.6856 - accuracy: 0.8324 - val_loss: 2.1527 - val_accuracy: 0.7327\n",
      "Epoch 194/250\n",
      "151/151 [==============================] - 4s 26ms/step - loss: 0.6811 - accuracy: 0.8332 - val_loss: 2.1602 - val_accuracy: 0.7316\n",
      "Epoch 195/250\n",
      "151/151 [==============================] - 4s 26ms/step - loss: 0.6797 - accuracy: 0.8325 - val_loss: 2.1530 - val_accuracy: 0.7321\n",
      "Epoch 196/250\n",
      "151/151 [==============================] - 4s 26ms/step - loss: 0.6832 - accuracy: 0.8334 - val_loss: 2.1509 - val_accuracy: 0.7304\n",
      "Epoch 197/250\n",
      "151/151 [==============================] - 4s 27ms/step - loss: 0.6801 - accuracy: 0.8330 - val_loss: 2.1496 - val_accuracy: 0.7333\n",
      "Epoch 198/250\n",
      "151/151 [==============================] - 4s 26ms/step - loss: 0.6782 - accuracy: 0.8333 - val_loss: 2.1707 - val_accuracy: 0.7320\n",
      "Epoch 199/250\n",
      "151/151 [==============================] - 4s 26ms/step - loss: 0.6787 - accuracy: 0.8334 - val_loss: 2.1518 - val_accuracy: 0.7316\n",
      "Epoch 200/250\n",
      "151/151 [==============================] - 4s 26ms/step - loss: 0.6748 - accuracy: 0.8342 - val_loss: 2.1536 - val_accuracy: 0.7315\n",
      "Epoch 201/250\n",
      "151/151 [==============================] - 4s 26ms/step - loss: 0.6749 - accuracy: 0.8347 - val_loss: 2.1671 - val_accuracy: 0.7314\n",
      "Epoch 202/250\n",
      "151/151 [==============================] - 4s 26ms/step - loss: 0.6685 - accuracy: 0.8358 - val_loss: 2.1599 - val_accuracy: 0.7314\n",
      "Epoch 203/250\n",
      "151/151 [==============================] - 4s 26ms/step - loss: 0.6755 - accuracy: 0.8338 - val_loss: 2.1628 - val_accuracy: 0.7320\n",
      "Epoch 204/250\n",
      "151/151 [==============================] - 4s 26ms/step - loss: 0.6716 - accuracy: 0.8347 - val_loss: 2.1507 - val_accuracy: 0.7321\n",
      "Epoch 205/250\n",
      "151/151 [==============================] - 4s 26ms/step - loss: 0.6704 - accuracy: 0.8344 - val_loss: 2.1636 - val_accuracy: 0.7321\n",
      "Epoch 206/250\n",
      "151/151 [==============================] - 4s 26ms/step - loss: 0.6696 - accuracy: 0.8360 - val_loss: 2.1814 - val_accuracy: 0.7319\n",
      "Epoch 207/250\n",
      "151/151 [==============================] - 4s 26ms/step - loss: 0.6695 - accuracy: 0.8357 - val_loss: 2.1535 - val_accuracy: 0.7315\n",
      "Epoch 208/250\n",
      "151/151 [==============================] - 4s 26ms/step - loss: 0.6659 - accuracy: 0.8367 - val_loss: 2.1663 - val_accuracy: 0.7330\n",
      "Epoch 209/250\n",
      "151/151 [==============================] - 4s 26ms/step - loss: 0.6650 - accuracy: 0.8363 - val_loss: 2.1724 - val_accuracy: 0.7312\n",
      "Epoch 210/250\n",
      "151/151 [==============================] - 4s 26ms/step - loss: 0.6666 - accuracy: 0.8354 - val_loss: 2.1707 - val_accuracy: 0.7325\n",
      "Epoch 211/250\n",
      "151/151 [==============================] - 4s 26ms/step - loss: 0.6679 - accuracy: 0.8358 - val_loss: 2.1629 - val_accuracy: 0.7313\n",
      "Epoch 212/250\n",
      "151/151 [==============================] - 4s 26ms/step - loss: 0.6628 - accuracy: 0.8372 - val_loss: 2.1785 - val_accuracy: 0.7309\n",
      "Epoch 213/250\n",
      "151/151 [==============================] - 4s 26ms/step - loss: 0.6614 - accuracy: 0.8358 - val_loss: 2.1870 - val_accuracy: 0.7306\n",
      "Epoch 214/250\n",
      "151/151 [==============================] - 4s 28ms/step - loss: 0.6592 - accuracy: 0.8363 - val_loss: 2.1674 - val_accuracy: 0.7314\n",
      "Epoch 215/250\n",
      "151/151 [==============================] - 4s 26ms/step - loss: 0.6606 - accuracy: 0.8369 - val_loss: 2.1849 - val_accuracy: 0.7316\n",
      "Epoch 216/250\n",
      "151/151 [==============================] - 4s 26ms/step - loss: 0.6610 - accuracy: 0.8382 - val_loss: 2.1717 - val_accuracy: 0.7295\n",
      "Epoch 217/250\n",
      "151/151 [==============================] - 4s 26ms/step - loss: 0.6545 - accuracy: 0.8377 - val_loss: 2.1593 - val_accuracy: 0.7316\n",
      "Epoch 218/250\n",
      "151/151 [==============================] - 4s 26ms/step - loss: 0.6589 - accuracy: 0.8379 - val_loss: 2.1847 - val_accuracy: 0.7290\n",
      "Epoch 219/250\n",
      "151/151 [==============================] - 4s 26ms/step - loss: 0.6577 - accuracy: 0.8363 - val_loss: 2.1929 - val_accuracy: 0.7301\n",
      "Epoch 220/250\n",
      "151/151 [==============================] - 4s 30ms/step - loss: 0.6538 - accuracy: 0.8386 - val_loss: 2.1914 - val_accuracy: 0.7298\n",
      "Epoch 221/250\n",
      "151/151 [==============================] - 4s 30ms/step - loss: 0.6583 - accuracy: 0.8374 - val_loss: 2.1888 - val_accuracy: 0.7304\n",
      "Epoch 222/250\n",
      "151/151 [==============================] - 4s 29ms/step - loss: 0.6553 - accuracy: 0.8377 - val_loss: 2.1902 - val_accuracy: 0.7297\n",
      "Epoch 223/250\n",
      "151/151 [==============================] - 4s 28ms/step - loss: 0.6495 - accuracy: 0.8394 - val_loss: 2.2059 - val_accuracy: 0.7321\n",
      "Epoch 224/250\n",
      "151/151 [==============================] - 4s 27ms/step - loss: 0.6529 - accuracy: 0.8381 - val_loss: 2.2057 - val_accuracy: 0.7304\n",
      "Epoch 225/250\n",
      "151/151 [==============================] - 4s 27ms/step - loss: 0.6478 - accuracy: 0.8386 - val_loss: 2.2078 - val_accuracy: 0.7321\n",
      "Epoch 226/250\n",
      "151/151 [==============================] - 4s 27ms/step - loss: 0.6517 - accuracy: 0.8386 - val_loss: 2.1878 - val_accuracy: 0.7321\n",
      "Epoch 227/250\n",
      "151/151 [==============================] - 4s 27ms/step - loss: 0.6494 - accuracy: 0.8381 - val_loss: 2.2079 - val_accuracy: 0.7311\n",
      "Epoch 228/250\n",
      "151/151 [==============================] - 4s 26ms/step - loss: 0.6472 - accuracy: 0.8396 - val_loss: 2.2261 - val_accuracy: 0.7313\n",
      "Epoch 229/250\n",
      "151/151 [==============================] - 4s 26ms/step - loss: 0.6492 - accuracy: 0.8390 - val_loss: 2.2023 - val_accuracy: 0.7310\n",
      "Epoch 230/250\n",
      "151/151 [==============================] - 4s 26ms/step - loss: 0.6412 - accuracy: 0.8404 - val_loss: 2.2073 - val_accuracy: 0.7300\n",
      "Epoch 231/250\n",
      "151/151 [==============================] - 4s 26ms/step - loss: 0.6453 - accuracy: 0.8396 - val_loss: 2.2007 - val_accuracy: 0.7304\n",
      "Epoch 232/250\n",
      "151/151 [==============================] - 4s 26ms/step - loss: 0.6394 - accuracy: 0.8398 - val_loss: 2.2249 - val_accuracy: 0.7292\n",
      "Epoch 233/250\n",
      "151/151 [==============================] - 4s 26ms/step - loss: 0.6442 - accuracy: 0.8412 - val_loss: 2.2123 - val_accuracy: 0.7316\n",
      "Epoch 234/250\n",
      "151/151 [==============================] - 4s 26ms/step - loss: 0.6395 - accuracy: 0.8407 - val_loss: 2.2283 - val_accuracy: 0.7310\n",
      "Epoch 235/250\n",
      "151/151 [==============================] - 4s 26ms/step - loss: 0.6376 - accuracy: 0.8411 - val_loss: 2.2290 - val_accuracy: 0.7314\n",
      "Epoch 236/250\n",
      "151/151 [==============================] - 4s 26ms/step - loss: 0.6354 - accuracy: 0.8437 - val_loss: 2.2489 - val_accuracy: 0.7307\n",
      "Epoch 237/250\n",
      "151/151 [==============================] - 4s 26ms/step - loss: 0.6390 - accuracy: 0.8416 - val_loss: 2.2159 - val_accuracy: 0.7307\n",
      "Epoch 238/250\n",
      "151/151 [==============================] - 4s 26ms/step - loss: 0.6388 - accuracy: 0.8405 - val_loss: 2.2364 - val_accuracy: 0.7303\n",
      "Epoch 239/250\n",
      "151/151 [==============================] - 4s 27ms/step - loss: 0.6397 - accuracy: 0.8410 - val_loss: 2.2333 - val_accuracy: 0.7296\n",
      "Epoch 240/250\n",
      "151/151 [==============================] - 4s 29ms/step - loss: 0.6349 - accuracy: 0.8425 - val_loss: 2.2143 - val_accuracy: 0.7292\n",
      "Epoch 241/250\n",
      "151/151 [==============================] - 4s 28ms/step - loss: 0.6369 - accuracy: 0.8413 - val_loss: 2.2311 - val_accuracy: 0.7310\n",
      "Epoch 242/250\n",
      "151/151 [==============================] - 4s 27ms/step - loss: 0.6318 - accuracy: 0.8433 - val_loss: 2.2330 - val_accuracy: 0.7308\n",
      "Epoch 243/250\n",
      "151/151 [==============================] - 4s 27ms/step - loss: 0.6351 - accuracy: 0.8427 - val_loss: 2.2181 - val_accuracy: 0.7287\n",
      "Epoch 244/250\n",
      "151/151 [==============================] - 4s 26ms/step - loss: 0.6292 - accuracy: 0.8418 - val_loss: 2.2342 - val_accuracy: 0.7287\n",
      "Epoch 245/250\n",
      "151/151 [==============================] - 4s 27ms/step - loss: 0.6327 - accuracy: 0.8421 - val_loss: 2.2192 - val_accuracy: 0.7295\n",
      "Epoch 246/250\n",
      "151/151 [==============================] - 4s 28ms/step - loss: 0.6280 - accuracy: 0.8445 - val_loss: 2.2477 - val_accuracy: 0.7309\n",
      "Epoch 247/250\n",
      "151/151 [==============================] - 4s 27ms/step - loss: 0.6292 - accuracy: 0.8435 - val_loss: 2.2492 - val_accuracy: 0.7301\n",
      "Epoch 248/250\n",
      "151/151 [==============================] - 4s 27ms/step - loss: 0.6305 - accuracy: 0.8426 - val_loss: 2.2359 - val_accuracy: 0.7317\n",
      "Epoch 249/250\n",
      "151/151 [==============================] - 4s 27ms/step - loss: 0.6263 - accuracy: 0.8440 - val_loss: 2.2474 - val_accuracy: 0.7285\n",
      "Epoch 250/250\n",
      "151/151 [==============================] - 4s 27ms/step - loss: 0.6256 - accuracy: 0.8438 - val_loss: 2.2430 - val_accuracy: 0.7297\n"
     ]
    }
   ],
   "source": [
    "hist = model.fit(\n",
    "    [encoder_input_sequences, decoder_input_sequences],\n",
    "    decoder_targets,\n",
    "    epochs=250,\n",
    "    validation_split=0.2)"
   ],
   "metadata": {
    "collapsed": false,
    "pycharm": {
     "name": "#%%\n"
    }
   }
  },
  {
   "cell_type": "code",
   "execution_count": 24,
   "outputs": [
    {
     "data": {
      "text/plain": "<Figure size 640x480 with 1 Axes>",
      "image/png": "[encoded data removed]"
     },
     "metadata": {},
     "output_type": "display_data"
    }
   ],
   "source": [
    "import matplotlib.pyplot as plt\n",
    "import seaborn as sns\n",
    "\n",
    "epoch_count = range(1, len(hist.history['accuracy']) + 1)\n",
    "sns.lineplot(x=epoch_count,  y=hist.history['accuracy'], label='train')\n",
    "sns.lineplot(x=epoch_count,  y=hist.history['val_accuracy'], label='valid')\n",
    "plt.show()"
   ],
   "metadata": {
    "collapsed": false,
    "pycharm": {
     "name": "#%%\n"
    }
   }
  },
  {
   "cell_type": "markdown",
   "metadata": {
    "id": "Zbwn0ekDy_s2",
    "pycharm": {
     "name": "#%% md\n"
    }
   },
   "source": [
    "### 5 - Inferencia\n",
    "Experimentar el funcionamiento de su modelo. Recuerde que debe realizar la inferencia de los modelos por separado de encoder y decoder."
   ]
  },
  {
   "cell_type": "code",
   "execution_count": 34,
   "outputs": [],
   "source": [
    "# Armar lo conversores de indice a palabra:\n",
    "idx2word_input = {v:k for k, v in word2idx_inputs.items()}\n",
    "idx2word_target = {v:k for k, v in word2idx_outputs.items()}"
   ],
   "metadata": {
    "collapsed": false,
    "pycharm": {
     "name": "#%%\n"
    }
   }
  },
  {
   "cell_type": "code",
   "execution_count": 35,
   "outputs": [],
   "source": [
    "def answer_question(input_seq):\n",
    "    # Se transforma la sequencia de entrada a los stados \"h\" y \"c\" de la LSTM\n",
    "    # para enviar la primera vez al decoder\"\n",
    "    states_value = encoder_model.predict(input_seq)\n",
    "\n",
    "    # Se inicializa la secuencia de entrada al decoder como \"<sos>\"\n",
    "    target_seq = np.zeros((1, 1))\n",
    "    target_seq[0, 0] = word2idx_outputs[\"<sos>\"]\n",
    "\n",
    "    # Se obtiene el indice que finaliza la inferencia\n",
    "    eos = word2idx_outputs[\"<eos>\"]\n",
    "\n",
    "    output_sentence = []\n",
    "    for _ in range(max_out_len):\n",
    "        # Predicción del próximo elemento\n",
    "        output_tokens, h, c = decoder_model.predict([target_seq] + states_value)\n",
    "        idx = np.argmax(output_tokens[0, 0, :])\n",
    "\n",
    "        # Si es \"end of sentece <eos>\" se acaba\n",
    "        if eos == idx:\n",
    "            break\n",
    "\n",
    "        # Transformar ídx a palabra\n",
    "        word = ''\n",
    "        if idx > 0:\n",
    "            word = idx2word_target[idx]\n",
    "            output_sentence.append(word)\n",
    "\n",
    "        # Actualizar los estados dado la ultimo prediccion\n",
    "        states_value = [h, c]\n",
    "\n",
    "        # Actualizar secuencia de entrada con la salida (re-alimentacion)\n",
    "        target_seq[0, 0] = idx\n",
    "\n",
    "    return ' '.join(output_sentence)"
   ],
   "metadata": {
    "collapsed": false,
    "pycharm": {
     "name": "#%%\n"
    }
   }
  },
  {
   "cell_type": "code",
   "execution_count": 36,
   "outputs": [
    {
     "name": "stdout",
     "output_type": "stream",
     "text": [
      "1/1 [==============================] - 0s 33ms/step\n",
      "1/1 [==============================] - 1s 1s/step\n",
      "1/1 [==============================] - 0s 15ms/step\n",
      "1/1 [==============================] - 0s 17ms/step\n",
      "1/1 [==============================] - 0s 14ms/step\n",
      "1/1 [==============================] - 0s 15ms/step\n",
      "-\n",
      "Input: hlo\n",
      "Response: hello how are you\n",
      "1/1 [==============================] - 0s 11ms/step\n",
      "1/1 [==============================] - 0s 13ms/step\n",
      "1/1 [==============================] - 0s 12ms/step\n",
      "1/1 [==============================] - 0s 29ms/step\n",
      "1/1 [==============================] - 0s 12ms/step\n",
      "1/1 [==============================] - 0s 13ms/step\n",
      "-\n",
      "Input:  \n",
      "Response: i love to read\n",
      "1/1 [==============================] - 0s 10ms/step\n",
      "1/1 [==============================] - 0s 12ms/step\n",
      "1/1 [==============================] - 0s 12ms/step\n",
      "1/1 [==============================] - 0s 12ms/step\n",
      "1/1 [==============================] - 0s 12ms/step\n",
      "1/1 [==============================] - 0s 12ms/step\n",
      "-\n",
      "Input: hi\n",
      "Response: hello how are you\n",
      "1/1 [==============================] - 0s 9ms/step\n",
      "1/1 [==============================] - 0s 12ms/step\n",
      "1/1 [==============================] - 0s 12ms/step\n",
      "1/1 [==============================] - 0s 12ms/step\n",
      "1/1 [==============================] - 0s 11ms/step\n",
      "1/1 [==============================] - 0s 13ms/step\n",
      "1/1 [==============================] - 0s 12ms/step\n",
      "1/1 [==============================] - 0s 12ms/step\n",
      "1/1 [==============================] - 0s 12ms/step\n",
      "-\n",
      "Input: what about you \n",
      "Response: i am not sure what you mean\n",
      "1/1 [==============================] - 0s 10ms/step\n",
      "1/1 [==============================] - 0s 12ms/step\n",
      "1/1 [==============================] - 0s 12ms/step\n",
      "1/1 [==============================] - 0s 12ms/step\n",
      "1/1 [==============================] - 0s 12ms/step\n",
      "1/1 [==============================] - 0s 13ms/step\n",
      "1/1 [==============================] - 0s 13ms/step\n",
      "1/1 [==============================] - 0s 12ms/step\n",
      "1/1 [==============================] - 0s 13ms/step\n",
      "-\n",
      "Input: labrador\n",
      "Response: what do you do for a living\n"
     ]
    }
   ],
   "source": [
    "for t in range(5):\n",
    "  i = np.random.choice(len(input_sentences))\n",
    "  input_seq = encoder_input_sequences[i:i+1]\n",
    "  translation = answer_question(input_seq)\n",
    "  print('-')\n",
    "  print('Input:', input_sentences[i])\n",
    "  print('Response:', translation)"
   ],
   "metadata": {
    "collapsed": false,
    "pycharm": {
     "name": "#%%\n"
    }
   }
  },
  {
   "cell_type": "code",
   "execution_count": 37,
   "outputs": [],
   "source": [
    "text_list = []\n",
    "text_list.append(\"Hi\")\n",
    "text_list.append(\"How are you\")\n",
    "text_list.append(\"What is your name?\")\n",
    "text_list.append(\"How old are you?\")\n",
    "text_list.append(\"Are you an IA?\")\n",
    "text_list.append(\"Are you intelligent?\")\n",
    "text_list.append(\"Do you have friends?\")\n",
    "text_list.append(\"see you later\")"
   ],
   "metadata": {
    "collapsed": false,
    "pycharm": {
     "name": "#%%\n"
    }
   }
  },
  {
   "cell_type": "code",
   "execution_count": 40,
   "outputs": [
    {
     "name": "stdout",
     "output_type": "stream",
     "text": [
      "1/1 [==============================] - 0s 22ms/step\n",
      "1/1 [==============================] - 0s 19ms/step\n",
      "1/1 [==============================] - 0s 13ms/step\n",
      "1/1 [==============================] - 0s 13ms/step\n",
      "1/1 [==============================] - 0s 13ms/step\n",
      "1/1 [==============================] - 0s 13ms/step\n",
      "-\n",
      "Input: Hi\n",
      "Response: hello how are you\n",
      "1/1 [==============================] - 0s 10ms/step\n",
      "1/1 [==============================] - 0s 14ms/step\n",
      "1/1 [==============================] - 0s 13ms/step\n",
      "1/1 [==============================] - 0s 13ms/step\n",
      "1/1 [==============================] - 0s 16ms/step\n",
      "-\n",
      "Input: How are you\n",
      "Response: i am fine\n",
      "1/1 [==============================] - 0s 11ms/step\n",
      "1/1 [==============================] - 0s 13ms/step\n",
      "1/1 [==============================] - 0s 13ms/step\n",
      "1/1 [==============================] - 0s 13ms/step\n",
      "1/1 [==============================] - 0s 12ms/step\n",
      "1/1 [==============================] - 0s 12ms/step\n",
      "-\n",
      "Input: What is your name?\n",
      "Response: i am a teacher\n",
      "1/1 [==============================] - 0s 10ms/step\n",
      "1/1 [==============================] - 0s 12ms/step\n",
      "1/1 [==============================] - 0s 12ms/step\n",
      "1/1 [==============================] - 0s 12ms/step\n",
      "1/1 [==============================] - 0s 13ms/step\n",
      "1/1 [==============================] - 0s 13ms/step\n",
      "1/1 [==============================] - 0s 14ms/step\n",
      "1/1 [==============================] - 0s 12ms/step\n",
      "-\n",
      "Input: How old are you?\n",
      "Response: i am 32 i am 32\n",
      "1/1 [==============================] - 0s 11ms/step\n",
      "1/1 [==============================] - 0s 13ms/step\n",
      "1/1 [==============================] - 0s 15ms/step\n",
      "1/1 [==============================] - 0s 12ms/step\n",
      "1/1 [==============================] - 0s 13ms/step\n",
      "1/1 [==============================] - 0s 12ms/step\n",
      "1/1 [==============================] - 0s 12ms/step\n",
      "1/1 [==============================] - 0s 13ms/step\n",
      "1/1 [==============================] - 0s 15ms/step\n",
      "-\n",
      "Input: Are you an IA?\n",
      "Response: i am not sure what you mean\n",
      "1/1 [==============================] - 0s 12ms/step\n",
      "1/1 [==============================] - 0s 12ms/step\n",
      "1/1 [==============================] - 0s 13ms/step\n",
      "1/1 [==============================] - 0s 12ms/step\n",
      "1/1 [==============================] - 0s 13ms/step\n",
      "1/1 [==============================] - 0s 13ms/step\n",
      "1/1 [==============================] - 0s 12ms/step\n",
      "1/1 [==============================] - 0s 12ms/step\n",
      "1/1 [==============================] - 0s 12ms/step\n",
      "1/1 [==============================] - 0s 12ms/step\n",
      "-\n",
      "Input: Are you intelligent?\n",
      "Response: i am a teacher i am a girl\n",
      "1/1 [==============================] - 0s 9ms/step\n",
      "1/1 [==============================] - 0s 12ms/step\n",
      "1/1 [==============================] - 0s 12ms/step\n",
      "1/1 [==============================] - 0s 13ms/step\n",
      "1/1 [==============================] - 0s 12ms/step\n",
      "1/1 [==============================] - 0s 11ms/step\n",
      "1/1 [==============================] - 0s 12ms/step\n",
      "-\n",
      "Input: Do you have friends?\n",
      "Response: i do not have any\n",
      "1/1 [==============================] - 0s 10ms/step\n",
      "1/1 [==============================] - 0s 12ms/step\n",
      "1/1 [==============================] - 0s 13ms/step\n",
      "1/1 [==============================] - 0s 13ms/step\n",
      "1/1 [==============================] - 0s 13ms/step\n",
      "1/1 [==============================] - 0s 13ms/step\n",
      "1/1 [==============================] - 0s 13ms/step\n",
      "1/1 [==============================] - 0s 12ms/step\n",
      "-\n",
      "Input: see you later\n",
      "Response: i like to play video games\n"
     ]
    }
   ],
   "source": [
    "for t in range(len(text_list)):\n",
    "  integer_seq_test = input_tokenizer.texts_to_sequences(text_list)[t]\n",
    "  encoder_sequence_test = pad_sequences([integer_seq_test], maxlen=max_input_len)\n",
    "  translation = answer_question(encoder_sequence_test)\n",
    "  print('-')\n",
    "  print('Input:', text_list[t])\n",
    "  print('Response:', translation)"
   ],
   "metadata": {
    "collapsed": false,
    "pycharm": {
     "name": "#%%\n"
    }
   }
  },
  {
   "cell_type": "code",
   "execution_count": null,
   "outputs": [],
   "source": [],
   "metadata": {
    "collapsed": false,
    "pycharm": {
     "name": "#%%\n"
    }
   }
  }
 ],
 "metadata": {
  "accelerator": "GPU",
  "colab": {
   "collapsed_sections": [],
   "provenance": []
  },
  "kernelspec": {
   "display_name": "Python 3.10.6 64-bit",
   "language": "python",
   "name": "python3"
  },
  "language_info": {
   "name": "python",
   "version": "3.10.6"
  },
  "vscode": {
   "interpreter": {
    "hash": "916dbcbb3f70747c44a77c7bcd40155683ae19c65e1c03b4aa3499c5328201f1"
   }
  }
 },
 "nbformat": 4,
 "nbformat_minor": 0
}