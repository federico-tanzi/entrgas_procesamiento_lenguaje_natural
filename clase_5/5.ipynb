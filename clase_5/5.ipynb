{
 "nbformat": 4,
 "nbformat_minor": 0,
 "metadata": {
  "colab": {
   "provenance": [],
   "collapsed_sections": []
  },
  "kernelspec": {
   "name": "python3",
   "display_name": "Python 3"
  },
  "language_info": {
   "name": "python"
  },
  "accelerator": "GPU"
 },
 "cells": [
  {
   "cell_type": "markdown",
   "metadata": {
    "id": "kBLpTr7plguX",
    "pycharm": {
     "name": "#%% md\n"
    }
   },
   "source": [
    "<img src=\"https://github.com/hernancontigiani/ceia_memorias_especializacion/raw/master/Figures/logoFIUBA.jpg\" width=\"500\" align=\"center\">\n",
    "\n",
    "\n",
    "# Procesamiento de lenguaje natural\n",
    "## Sentiment analysis con Embeddings + LSTM"
   ]
  },
  {
   "cell_type": "markdown",
   "metadata": {
    "id": "9W6nuajhlqZD",
    "pycharm": {
     "name": "#%% md\n"
    }
   },
   "source": [
    "### Objetivo\n",
    "El objetivo es utilizar las críticas de compradores de ropa para que el sistema determine la evaluación del comprador y su crítica (cuantas estrellas le asigna al producto)."
   ]
  },
  {
   "cell_type": "code",
   "source": [
    "!pip install --upgrade --no-cache-dir gdown --quiet"
   ],
   "metadata": {
    "id": "i6zvzv3qZ6xS",
    "pycharm": {
     "name": "#%%\n"
    }
   },
   "execution_count": 1,
   "outputs": []
  },
  {
   "cell_type": "code",
   "metadata": {
    "id": "hCpOVzJdl8_p",
    "pycharm": {
     "name": "#%%\n"
    }
   },
   "source": [
    "import numpy as np\n",
    "import pandas as pd\n",
    "from keras.utils.np_utils import to_categorical\n",
    "from keras.models import Sequential\n",
    "from keras.layers import Dense"
   ],
   "execution_count": 2,
   "outputs": []
  },
  {
   "cell_type": "markdown",
   "metadata": {
    "id": "8UPeRkrAmbF3",
    "pycharm": {
     "name": "#%% md\n"
    }
   },
   "source": [
    "### Datos\n",
    "Utilizaremos como dataset críticas de compradores de ropa (eCommerce) los cuales puntuaron a cada prenda con un puntaje de 1 a 5 estrellas.\\\n",
    "Referencia del dataset: [LINK](https://www.kaggle.com/nicapotato/womens-ecommerce-clothing-reviews/version/1)"
   ]
  },
  {
   "cell_type": "code",
   "metadata": {
    "id": "C7jLvTU3lSyL",
    "pycharm": {
     "name": "#%%\n"
    }
   },
   "source": [
    "# Descargar la carpeta de dataset\n",
    "import os\n",
    "import gdown\n",
    "if os.access('clothing_ecommerce_reviews.csv', os.F_OK) is False:\n",
    "    url = 'https://drive.google.com/uc?id=1Urn1UFSrodN5BuW6-sc_igtaySGRwhV8'\n",
    "    output = 'clothing_ecommerce_reviews.csv'\n",
    "    gdown.download(url, output, quiet=False)\n",
    "else:\n",
    "    print(\"El dataset ya se encuentra descargado\")"
   ],
   "execution_count": 5,
   "outputs": [
    {
     "name": "stdout",
     "output_type": "stream",
     "text": [
      "El dataset ya se encuentra descargado\n"
     ]
    }
   ]
  },
  {
   "cell_type": "code",
   "metadata": {
    "id": "o-SV1P3dnD1J",
    "pycharm": {
     "name": "#%%\n"
    }
   },
   "source": [
    "# Armar el dataset\n",
    "df = pd.read_csv('clothing_ecommerce_reviews.csv')\n",
    "df.drop(columns = ['Unnamed: 0'], inplace = True)\n",
    "df.head()"
   ],
   "execution_count": 7,
   "outputs": [
    {
     "data": {
      "text/plain": "   Clothing ID  Age                    Title  \\\n0          767   33                      NaN   \n1         1080   34                      NaN   \n2         1077   60  Some major design flaws   \n3         1049   50         My favorite buy!   \n4          847   47         Flattering shirt   \n\n                                         Review Text  Rating  Recommended IND  \\\n0  Absolutely wonderful - silky and sexy and comf...       4                1   \n1  Love this dress!  it's sooo pretty.  i happene...       5                1   \n2  I had such high hopes for this dress and reall...       3                0   \n3  I love, love, love this jumpsuit. it's fun, fl...       5                1   \n4  This shirt is very flattering to all due to th...       5                1   \n\n   Positive Feedback Count   Division Name Department Name Class Name  \n0                        0       Initmates        Intimate  Intimates  \n1                        4         General         Dresses    Dresses  \n2                        0         General         Dresses    Dresses  \n3                        0  General Petite         Bottoms      Pants  \n4                        6         General            Tops    Blouses  ",
      "text/html": "<div>\n<style scoped>\n    .dataframe tbody tr th:only-of-type {\n        vertical-align: middle;\n    }\n\n    .dataframe tbody tr th {\n        vertical-align: top;\n    }\n\n    .dataframe thead th {\n        text-align: right;\n    }\n</style>\n<table border=\"1\" class=\"dataframe\">\n  <thead>\n    <tr style=\"text-align: right;\">\n      <th></th>\n      <th>Clothing ID</th>\n      <th>Age</th>\n      <th>Title</th>\n      <th>Review Text</th>\n      <th>Rating</th>\n      <th>Recommended IND</th>\n      <th>Positive Feedback Count</th>\n      <th>Division Name</th>\n      <th>Department Name</th>\n      <th>Class Name</th>\n    </tr>\n  </thead>\n  <tbody>\n    <tr>\n      <th>0</th>\n      <td>767</td>\n      <td>33</td>\n      <td>NaN</td>\n      <td>Absolutely wonderful - silky and sexy and comf...</td>\n      <td>4</td>\n      <td>1</td>\n      <td>0</td>\n      <td>Initmates</td>\n      <td>Intimate</td>\n      <td>Intimates</td>\n    </tr>\n    <tr>\n      <th>1</th>\n      <td>1080</td>\n      <td>34</td>\n      <td>NaN</td>\n      <td>Love this dress!  it's sooo pretty.  i happene...</td>\n      <td>5</td>\n      <td>1</td>\n      <td>4</td>\n      <td>General</td>\n      <td>Dresses</td>\n      <td>Dresses</td>\n    </tr>\n    <tr>\n      <th>2</th>\n      <td>1077</td>\n      <td>60</td>\n      <td>Some major design flaws</td>\n      <td>I had such high hopes for this dress and reall...</td>\n      <td>3</td>\n      <td>0</td>\n      <td>0</td>\n      <td>General</td>\n      <td>Dresses</td>\n      <td>Dresses</td>\n    </tr>\n    <tr>\n      <th>3</th>\n      <td>1049</td>\n      <td>50</td>\n      <td>My favorite buy!</td>\n      <td>I love, love, love this jumpsuit. it's fun, fl...</td>\n      <td>5</td>\n      <td>1</td>\n      <td>0</td>\n      <td>General Petite</td>\n      <td>Bottoms</td>\n      <td>Pants</td>\n    </tr>\n    <tr>\n      <th>4</th>\n      <td>847</td>\n      <td>47</td>\n      <td>Flattering shirt</td>\n      <td>This shirt is very flattering to all due to th...</td>\n      <td>5</td>\n      <td>1</td>\n      <td>6</td>\n      <td>General</td>\n      <td>Tops</td>\n      <td>Blouses</td>\n    </tr>\n  </tbody>\n</table>\n</div>"
     },
     "execution_count": 7,
     "metadata": {},
     "output_type": "execute_result"
    }
   ]
  },
  {
   "cell_type": "markdown",
   "metadata": {
    "id": "q-OwSePKm-FK",
    "pycharm": {
     "name": "#%% md\n"
    }
   },
   "source": [
    "### 1 - Limpieza de datos\n",
    "Alumno:\n",
    "- Del dataset unicamente utilizar las columnas \"Review Text\" y \"Rating.\n",
    "- Tranformar el rating 1-5 a una escala numérica de 0 a 4.\n",
    "\n"
   ]
  },
  {
   "cell_type": "code",
   "metadata": {
    "id": "-hc7-AmYnPC3",
    "pycharm": {
     "name": "#%%\n"
    }
   },
   "source": [
    "df_reviews = df.loc[:, ['Review Text', 'Rating']].dropna()\n",
    "df_reviews['Rating'] = df_reviews['Rating'] - 1\n",
    "df_reviews.head()"
   ],
   "execution_count": 8,
   "outputs": [
    {
     "data": {
      "text/plain": "                                         Review Text  Rating\n0  Absolutely wonderful - silky and sexy and comf...       3\n1  Love this dress!  it's sooo pretty.  i happene...       4\n2  I had such high hopes for this dress and reall...       2\n3  I love, love, love this jumpsuit. it's fun, fl...       4\n4  This shirt is very flattering to all due to th...       4",
      "text/html": "<div>\n<style scoped>\n    .dataframe tbody tr th:only-of-type {\n        vertical-align: middle;\n    }\n\n    .dataframe tbody tr th {\n        vertical-align: top;\n    }\n\n    .dataframe thead th {\n        text-align: right;\n    }\n</style>\n<table border=\"1\" class=\"dataframe\">\n  <thead>\n    <tr style=\"text-align: right;\">\n      <th></th>\n      <th>Review Text</th>\n      <th>Rating</th>\n    </tr>\n  </thead>\n  <tbody>\n    <tr>\n      <th>0</th>\n      <td>Absolutely wonderful - silky and sexy and comf...</td>\n      <td>3</td>\n    </tr>\n    <tr>\n      <th>1</th>\n      <td>Love this dress!  it's sooo pretty.  i happene...</td>\n      <td>4</td>\n    </tr>\n    <tr>\n      <th>2</th>\n      <td>I had such high hopes for this dress and reall...</td>\n      <td>2</td>\n    </tr>\n    <tr>\n      <th>3</th>\n      <td>I love, love, love this jumpsuit. it's fun, fl...</td>\n      <td>4</td>\n    </tr>\n    <tr>\n      <th>4</th>\n      <td>This shirt is very flattering to all due to th...</td>\n      <td>4</td>\n    </tr>\n  </tbody>\n</table>\n</div>"
     },
     "execution_count": 8,
     "metadata": {},
     "output_type": "execute_result"
    }
   ]
  },
  {
   "cell_type": "code",
   "metadata": {
    "id": "sZtvASVOn3ty",
    "pycharm": {
     "name": "#%%\n"
    }
   },
   "source": [
    "# Alumno: Observar como está distribuido el dataset respecto a la columna Rating\n",
    "# es decir, observar que tan balanceado se encuentra respecot a cada clase\n",
    "np.unique(df_reviews['Rating'])"
   ],
   "execution_count": 9,
   "outputs": [
    {
     "data": {
      "text/plain": "array([0, 1, 2, 3, 4])"
     },
     "execution_count": 9,
     "metadata": {},
     "output_type": "execute_result"
    }
   ]
  },
  {
   "cell_type": "code",
   "execution_count": 10,
   "outputs": [
    {
     "data": {
      "text/plain": "Rating\n4    0.553862\n3    0.216775\n2    0.124685\n1    0.068416\n0    0.036262\nName: proportion, dtype: float64"
     },
     "execution_count": 10,
     "metadata": {},
     "output_type": "execute_result"
    }
   ],
   "source": [
    "df_reviews['Rating'].value_counts(normalize=True)"
   ],
   "metadata": {
    "collapsed": false,
    "pycharm": {
     "name": "#%%\n"
    }
   }
  },
  {
   "cell_type": "code",
   "metadata": {
    "id": "gVJ_RVi4o1h3",
    "pycharm": {
     "name": "#%%\n"
    }
   },
   "source": [
    "# Alumno: tomar la columna de las review y almacenarlo todo en un vector numpy de reviews\n",
    "rating_reviews = df_reviews['Review Text'].values\n",
    "rating_reviews.shape"
   ],
   "execution_count": 12,
   "outputs": [
    {
     "data": {
      "text/plain": "(22641,)"
     },
     "execution_count": 12,
     "metadata": {},
     "output_type": "execute_result"
    }
   ]
  },
  {
   "cell_type": "code",
   "metadata": {
    "id": "4nT5Un_co65Q",
    "pycharm": {
     "name": "#%%\n"
    }
   },
   "source": [
    "# Alumno: Cuantas reviews (rows) hay para evaluar?\n",
    "len(rating_reviews)"
   ],
   "execution_count": 13,
   "outputs": [
    {
     "data": {
      "text/plain": "22641"
     },
     "execution_count": 13,
     "metadata": {},
     "output_type": "execute_result"
    }
   ]
  },
  {
   "cell_type": "code",
   "metadata": {
    "id": "HP5uN9tqpHu_",
    "pycharm": {
     "name": "#%%\n"
    }
   },
   "source": [
    "# Alumno: Concatenar todas las reviews para armar el corpus\n",
    "corpus = ' '.join(rating_reviews)"
   ],
   "execution_count": 14,
   "outputs": []
  },
  {
   "cell_type": "code",
   "metadata": {
    "id": "FEzmePgdpf74",
    "pycharm": {
     "name": "#%%\n"
    }
   },
   "source": [
    "# Alumno: ¿Cuál es la longitud de ese corpus?\n",
    "len(corpus)"
   ],
   "execution_count": 15,
   "outputs": [
    {
     "data": {
      "text/plain": "7011643"
     },
     "execution_count": 15,
     "metadata": {},
     "output_type": "execute_result"
    }
   ]
  },
  {
   "cell_type": "code",
   "metadata": {
    "id": "MYeJLdDmpvOe",
    "pycharm": {
     "name": "#%%\n"
    }
   },
   "source": [
    "# Alumno: Utilizar \"text_to_word_sequence\" para separar las palabras en tokens\n",
    "# recordar que text_to_word_sequence automaticamente quita los signos de puntuacion y pasa el texto a lowercase\n",
    "from keras.preprocessing.text import text_to_word_sequence\n",
    "tokens = text_to_word_sequence(corpus)"
   ],
   "execution_count": 16,
   "outputs": []
  },
  {
   "cell_type": "code",
   "metadata": {
    "id": "M6L-fnWAp_lA",
    "pycharm": {
     "name": "#%%\n"
    }
   },
   "source": [
    "# Alumno: Dar un vistazo a los primeros 20 tokens/palabras\n",
    "tokens[:20]"
   ],
   "execution_count": 17,
   "outputs": [
    {
     "data": {
      "text/plain": "['absolutely',\n 'wonderful',\n 'silky',\n 'and',\n 'sexy',\n 'and',\n 'comfortable',\n 'love',\n 'this',\n 'dress',\n \"it's\",\n 'sooo',\n 'pretty',\n 'i',\n 'happened',\n 'to',\n 'find',\n 'it',\n 'in',\n 'a']"
     },
     "execution_count": 17,
     "metadata": {},
     "output_type": "execute_result"
    }
   ]
  },
  {
   "cell_type": "code",
   "metadata": {
    "id": "-8QgwwMUqG0d",
    "pycharm": {
     "name": "#%%\n"
    }
   },
   "source": [
    "# Alumno: ¿Cuántos tokens/palabras hay?\n",
    "len(tokens)"
   ],
   "execution_count": 18,
   "outputs": [
    {
     "data": {
      "text/plain": "1372203"
     },
     "execution_count": 18,
     "metadata": {},
     "output_type": "execute_result"
    }
   ]
  },
  {
   "cell_type": "code",
   "metadata": {
    "id": "TFukNZdOsZ8_",
    "pycharm": {
     "name": "#%%\n"
    }
   },
   "source": [
    "# Alumno: Tokenizar las palabras con el Tokenizer de Keras\n",
    "# Definir una máxima cantidad de palabras a utilizar:\n",
    "# num_words --> the maximum number of words to keep, based on word frequency.\n",
    "# Only the most common num_words-1 words will be kept.\n",
    "from keras.preprocessing.text import Tokenizer\n",
    "num_words = 5000\n",
    "vocab_size = num_words\n",
    "tokenizer = Tokenizer(num_words=num_words)\n",
    "tokenizer.fit_on_texts(tokens)"
   ],
   "execution_count": 19,
   "outputs": []
  },
  {
   "cell_type": "code",
   "metadata": {
    "id": "JnR1tlqZy94X",
    "pycharm": {
     "name": "#%%\n"
    }
   },
   "source": [
    "# Alumno: Obtener el diccionario de palabra (word) a índice\n",
    "# y observar la cantidad total del vocabulario\n",
    "word_index = tokenizer.word_index"
   ],
   "execution_count": 20,
   "outputs": []
  },
  {
   "cell_type": "code",
   "metadata": {
    "id": "AvWzzSretQXf",
    "pycharm": {
     "name": "#%%\n"
    }
   },
   "source": [
    "# Alumno: Convertir las palabras/tokens a números\n",
    "rating_reviews_nums = tokenizer.texts_to_sequences(rating_reviews)"
   ],
   "execution_count": 21,
   "outputs": []
  },
  {
   "cell_type": "code",
   "metadata": {
    "id": "za73M5SRtbrP",
    "pycharm": {
     "name": "#%%\n"
    }
   },
   "source": [
    "# Alumno: Determinar cual es la oración más larga\n",
    "max(len(rating_reviews_num) for rating_reviews_num in rating_reviews_nums)"
   ],
   "execution_count": 22,
   "outputs": [
    {
     "data": {
      "text/plain": "116"
     },
     "execution_count": 22,
     "metadata": {},
     "output_type": "execute_result"
    }
   ]
  },
  {
   "cell_type": "code",
   "metadata": {
    "id": "oCkO9Wc9tls1",
    "pycharm": {
     "name": "#%%\n"
    }
   },
   "source": [
    "# Alumno: Realizar padding de las sentencias al mismo tamaño\n",
    "# tomando de referencia la máxima sentencia\n",
    "from tensorflow.keras.utils import pad_sequences\n",
    "maxlen = 116\n",
    "X = pad_sequences(rating_reviews_nums, padding='pre', maxlen=maxlen)"
   ],
   "execution_count": 23,
   "outputs": []
  },
  {
   "cell_type": "code",
   "metadata": {
    "id": "kGHHabVdt_aa",
    "pycharm": {
     "name": "#%%\n"
    }
   },
   "source": [
    "# Alumno: Observar las dimensiones de la variable input\n",
    "X.shape"
   ],
   "execution_count": 24,
   "outputs": [
    {
     "data": {
      "text/plain": "(22641, 116)"
     },
     "execution_count": 24,
     "metadata": {},
     "output_type": "execute_result"
    }
   ]
  },
  {
   "cell_type": "code",
   "metadata": {
    "id": "llVM-tzQo9_F",
    "pycharm": {
     "name": "#%%\n"
    }
   },
   "source": [
    "# Alumno tomar la columna rating y alcemacenarla en una variable \"y\" transformada a oneHotEncoding\n",
    "# Su shape debe ser equivalente la cantidad de rows del corpus y a la cantidad\n",
    "# de clases que se deseen predecir (en este ejemplo son 5)\n",
    "y = to_categorical(df_reviews['Rating'].values)"
   ],
   "execution_count": 25,
   "outputs": []
  },
  {
   "cell_type": "code",
   "execution_count": 26,
   "outputs": [
    {
     "data": {
      "text/plain": "(22641, 5)"
     },
     "execution_count": 26,
     "metadata": {},
     "output_type": "execute_result"
    }
   ],
   "source": [
    "y.shape"
   ],
   "metadata": {
    "collapsed": false,
    "pycharm": {
     "name": "#%%\n"
    }
   }
  },
  {
   "cell_type": "code",
   "metadata": {
    "id": "Rmz9A6n4uK4V",
    "pycharm": {
     "name": "#%%\n"
    }
   },
   "source": [
    "# Alumno: Dividir los datos en train y test\n",
    "from sklearn.model_selection import train_test_split\n",
    "X_train, X_test, y_train, y_test = train_test_split(X, y, test_size=0.2, random_state=42)"
   ],
   "execution_count": 27,
   "outputs": []
  },
  {
   "cell_type": "code",
   "metadata": {
    "id": "EcDPlhEouQ9E",
    "pycharm": {
     "name": "#%%\n"
    }
   },
   "source": [
    "# Alumno: determinar la dimensiones de entrada y salida\n",
    "X.shape[1]"
   ],
   "execution_count": 28,
   "outputs": [
    {
     "data": {
      "text/plain": "116"
     },
     "execution_count": 28,
     "metadata": {},
     "output_type": "execute_result"
    }
   ]
  },
  {
   "cell_type": "code",
   "execution_count": 29,
   "outputs": [
    {
     "data": {
      "text/plain": "5"
     },
     "execution_count": 29,
     "metadata": {},
     "output_type": "execute_result"
    }
   ],
   "source": [
    "y.shape[1]"
   ],
   "metadata": {
    "collapsed": false,
    "pycharm": {
     "name": "#%%\n"
    }
   }
  },
  {
   "cell_type": "markdown",
   "metadata": {
    "id": "NpbQHExL6OTu",
    "pycharm": {
     "name": "#%% md\n"
    }
   },
   "source": [
    "### 2 - Entrenar el modelo con Embeddings + LSTM"
   ]
  },
  {
   "cell_type": "code",
   "metadata": {
    "id": "NUkuWBsM6cx3",
    "pycharm": {
     "name": "#%%\n"
    }
   },
   "source": [
    "# Alumno: Entrene su modelo con LSTM entrenando sus propios embeddings\n",
    "# o utilizando embeddings pre-entrenados.\n",
    "from keras.layers import LSTM\n",
    "from keras.layers import Embedding\n",
    "from keras.layers import Dropout"
   ],
   "execution_count": 30,
   "outputs": []
  },
  {
   "cell_type": "code",
   "execution_count": 31,
   "outputs": [
    {
     "name": "stdout",
     "output_type": "stream",
     "text": [
      "Metal device set to: Apple M1 Pro\n",
      "Model: \"sequential\"\n",
      "_________________________________________________________________\n",
      " Layer (type)                Output Shape              Param #   \n",
      "=================================================================\n",
      " embedding (Embedding)       (None, 116, 50)           250050    \n",
      "                                                                 \n",
      " lstm (LSTM)                 (None, 116, 64)           29440     \n",
      "                                                                 \n",
      " dropout (Dropout)           (None, 116, 64)           0         \n",
      "                                                                 \n",
      " lstm_1 (LSTM)               (None, 64)                33024     \n",
      "                                                                 \n",
      " dense (Dense)               (None, 128)               8320      \n",
      "                                                                 \n",
      " dropout_1 (Dropout)         (None, 128)               0         \n",
      "                                                                 \n",
      " dense_1 (Dense)             (None, 5)                 645       \n",
      "                                                                 \n",
      "=================================================================\n",
      "Total params: 321,479\n",
      "Trainable params: 321,479\n",
      "Non-trainable params: 0\n",
      "_________________________________________________________________\n"
     ]
    }
   ],
   "source": [
    "model = Sequential()\n",
    "model.add(Embedding(input_dim=vocab_size+1, output_dim=50, input_length=116))\n",
    "model.add(LSTM(units=64, return_sequences=True))\n",
    "model.add(Dropout(0.2))\n",
    "model.add(LSTM(units=64)) # La última capa LSTM no lleva return_sequences\n",
    "\n",
    "model.add(Dense(units=128, activation='relu'))\n",
    "model.add(Dropout(rate=0.2))\n",
    "model.add(Dense(units=5, activation='softmax'))\n",
    "\n",
    "model.compile(optimizer=\"adam\",\n",
    "              loss='categorical_crossentropy',\n",
    "              metrics=['accuracy'])\n",
    "\n",
    "model.summary()"
   ],
   "metadata": {
    "collapsed": false,
    "pycharm": {
     "name": "#%%\n"
    }
   }
  },
  {
   "cell_type": "code",
   "execution_count": 38,
   "outputs": [
    {
     "name": "stdout",
     "output_type": "stream",
     "text": [
      "Epoch 1/100\n"
     ]
    },
    {
     "name": "stderr",
     "output_type": "stream",
     "text": [
      "2023-08-16 19:53:45.644524: W tensorflow/tsl/platform/profile_utils/cpu_utils.cc:128] Failed to get CPU frequency: 0 Hz\n"
     ]
    },
    {
     "name": "stdout",
     "output_type": "stream",
     "text": [
      "453/453 [==============================] - 23s 47ms/step - loss: 1.0117 - accuracy: 0.5965 - val_loss: 0.9220 - val_accuracy: 0.6133\n",
      "Epoch 2/100\n",
      "453/453 [==============================] - 17s 38ms/step - loss: 0.8540 - accuracy: 0.6383 - val_loss: 0.9191 - val_accuracy: 0.6144\n",
      "Epoch 3/100\n",
      "453/453 [==============================] - 17s 39ms/step - loss: 0.7739 - accuracy: 0.6702 - val_loss: 0.9634 - val_accuracy: 0.6216\n",
      "Epoch 4/100\n",
      "453/453 [==============================] - 17s 38ms/step - loss: 0.6996 - accuracy: 0.7020 - val_loss: 0.9689 - val_accuracy: 0.6108\n",
      "Epoch 5/100\n",
      "453/453 [==============================] - 17s 37ms/step - loss: 0.6385 - accuracy: 0.7311 - val_loss: 1.0203 - val_accuracy: 0.5896\n",
      "Epoch 6/100\n",
      "453/453 [==============================] - 17s 38ms/step - loss: 0.5698 - accuracy: 0.7656 - val_loss: 1.1614 - val_accuracy: 0.6056\n",
      "Epoch 7/100\n",
      "453/453 [==============================] - 17s 37ms/step - loss: 0.5161 - accuracy: 0.7925 - val_loss: 1.2438 - val_accuracy: 0.5840\n",
      "Epoch 8/100\n",
      "453/453 [==============================] - 17s 38ms/step - loss: 0.4626 - accuracy: 0.8180 - val_loss: 1.3728 - val_accuracy: 0.5783\n",
      "Epoch 9/100\n",
      "453/453 [==============================] - 17s 37ms/step - loss: 0.4170 - accuracy: 0.8419 - val_loss: 1.4041 - val_accuracy: 0.5529\n",
      "Epoch 10/100\n",
      "453/453 [==============================] - 17s 37ms/step - loss: 0.3739 - accuracy: 0.8594 - val_loss: 1.5254 - val_accuracy: 0.5573\n",
      "Epoch 11/100\n",
      "453/453 [==============================] - 17s 37ms/step - loss: 0.3322 - accuracy: 0.8769 - val_loss: 1.8254 - val_accuracy: 0.5556\n",
      "Epoch 12/100\n",
      "453/453 [==============================] - 17s 37ms/step - loss: 0.2989 - accuracy: 0.8921 - val_loss: 1.7291 - val_accuracy: 0.5642\n",
      "Epoch 13/100\n",
      "453/453 [==============================] - 17s 39ms/step - loss: 0.2700 - accuracy: 0.9044 - val_loss: 1.7885 - val_accuracy: 0.5785\n",
      "Epoch 14/100\n",
      "453/453 [==============================] - 17s 38ms/step - loss: 0.2331 - accuracy: 0.9150 - val_loss: 1.8673 - val_accuracy: 0.5661\n",
      "Epoch 15/100\n",
      "453/453 [==============================] - 17s 37ms/step - loss: 0.2075 - accuracy: 0.9264 - val_loss: 2.1101 - val_accuracy: 0.5664\n",
      "Epoch 16/100\n",
      "453/453 [==============================] - 17s 37ms/step - loss: 0.1750 - accuracy: 0.9409 - val_loss: 2.0811 - val_accuracy: 0.5752\n",
      "Epoch 17/100\n",
      "453/453 [==============================] - 17s 38ms/step - loss: 0.1770 - accuracy: 0.9389 - val_loss: 1.9152 - val_accuracy: 0.5335\n",
      "Epoch 18/100\n",
      "453/453 [==============================] - 17s 38ms/step - loss: 0.1495 - accuracy: 0.9516 - val_loss: 2.1779 - val_accuracy: 0.5769\n",
      "Epoch 19/100\n",
      "453/453 [==============================] - 17s 37ms/step - loss: 0.1389 - accuracy: 0.9543 - val_loss: 2.3542 - val_accuracy: 0.5504\n",
      "Epoch 20/100\n",
      "453/453 [==============================] - 17s 37ms/step - loss: 0.1187 - accuracy: 0.9610 - val_loss: 2.3636 - val_accuracy: 0.5490\n",
      "Epoch 21/100\n",
      "453/453 [==============================] - 17s 38ms/step - loss: 0.1204 - accuracy: 0.9596 - val_loss: 2.4940 - val_accuracy: 0.5498\n",
      "Epoch 22/100\n",
      "453/453 [==============================] - 17s 39ms/step - loss: 0.1126 - accuracy: 0.9620 - val_loss: 2.6702 - val_accuracy: 0.5711\n",
      "Epoch 23/100\n",
      "453/453 [==============================] - 17s 38ms/step - loss: 0.0920 - accuracy: 0.9702 - val_loss: 2.7914 - val_accuracy: 0.5736\n",
      "Epoch 24/100\n",
      "453/453 [==============================] - 17s 38ms/step - loss: 0.0889 - accuracy: 0.9712 - val_loss: 2.7209 - val_accuracy: 0.5658\n",
      "Epoch 25/100\n",
      "453/453 [==============================] - 17s 38ms/step - loss: 0.0796 - accuracy: 0.9741 - val_loss: 2.8625 - val_accuracy: 0.5426\n",
      "Epoch 26/100\n",
      "453/453 [==============================] - 17s 37ms/step - loss: 0.0944 - accuracy: 0.9697 - val_loss: 2.5384 - val_accuracy: 0.5493\n",
      "Epoch 27/100\n",
      "453/453 [==============================] - 17s 37ms/step - loss: 0.0810 - accuracy: 0.9736 - val_loss: 2.8601 - val_accuracy: 0.5426\n",
      "Epoch 28/100\n",
      "453/453 [==============================] - 17s 38ms/step - loss: 0.0639 - accuracy: 0.9796 - val_loss: 3.0634 - val_accuracy: 0.5509\n",
      "Epoch 29/100\n",
      "453/453 [==============================] - 17s 38ms/step - loss: 0.0570 - accuracy: 0.9810 - val_loss: 3.0664 - val_accuracy: 0.5653\n",
      "Epoch 30/100\n",
      "453/453 [==============================] - 16s 36ms/step - loss: 0.0636 - accuracy: 0.9792 - val_loss: 3.1529 - val_accuracy: 0.5686\n",
      "Epoch 31/100\n",
      "453/453 [==============================] - 16s 36ms/step - loss: 0.0514 - accuracy: 0.9841 - val_loss: 3.1724 - val_accuracy: 0.5504\n",
      "Epoch 32/100\n",
      "453/453 [==============================] - 16s 36ms/step - loss: 0.0533 - accuracy: 0.9830 - val_loss: 3.2163 - val_accuracy: 0.5548\n",
      "Epoch 33/100\n",
      "453/453 [==============================] - 16s 36ms/step - loss: 0.0578 - accuracy: 0.9824 - val_loss: 3.1650 - val_accuracy: 0.5631\n",
      "Epoch 34/100\n",
      "453/453 [==============================] - 17s 37ms/step - loss: 0.0402 - accuracy: 0.9867 - val_loss: 3.3076 - val_accuracy: 0.5639\n",
      "Epoch 35/100\n",
      "453/453 [==============================] - 17s 37ms/step - loss: 0.0486 - accuracy: 0.9841 - val_loss: 3.2071 - val_accuracy: 0.5631\n",
      "Epoch 36/100\n",
      "453/453 [==============================] - 16s 36ms/step - loss: 0.0504 - accuracy: 0.9825 - val_loss: 3.2908 - val_accuracy: 0.5487\n",
      "Epoch 37/100\n",
      "453/453 [==============================] - 17s 38ms/step - loss: 0.0366 - accuracy: 0.9878 - val_loss: 3.5316 - val_accuracy: 0.5451\n",
      "Epoch 38/100\n",
      "453/453 [==============================] - 18s 40ms/step - loss: 0.0384 - accuracy: 0.9880 - val_loss: 3.4723 - val_accuracy: 0.5644\n",
      "Epoch 39/100\n",
      "453/453 [==============================] - 17s 37ms/step - loss: 0.0279 - accuracy: 0.9914 - val_loss: 3.6828 - val_accuracy: 0.5540\n",
      "Epoch 40/100\n",
      "453/453 [==============================] - 16s 35ms/step - loss: 0.0374 - accuracy: 0.9888 - val_loss: 3.5787 - val_accuracy: 0.5479\n",
      "Epoch 41/100\n",
      "453/453 [==============================] - 16s 36ms/step - loss: 0.0361 - accuracy: 0.9885 - val_loss: 3.5770 - val_accuracy: 0.5556\n",
      "Epoch 42/100\n",
      "453/453 [==============================] - 17s 37ms/step - loss: 0.0357 - accuracy: 0.9887 - val_loss: 3.5917 - val_accuracy: 0.5482\n",
      "Epoch 43/100\n",
      "453/453 [==============================] - 17s 36ms/step - loss: 0.0332 - accuracy: 0.9894 - val_loss: 3.4573 - val_accuracy: 0.5575\n",
      "Epoch 44/100\n",
      "453/453 [==============================] - 17s 37ms/step - loss: 0.0303 - accuracy: 0.9899 - val_loss: 3.6050 - val_accuracy: 0.5526\n",
      "Epoch 45/100\n",
      "453/453 [==============================] - 17s 37ms/step - loss: 0.0279 - accuracy: 0.9912 - val_loss: 4.0192 - val_accuracy: 0.5482\n",
      "Epoch 46/100\n",
      "453/453 [==============================] - 17s 38ms/step - loss: 0.0245 - accuracy: 0.9923 - val_loss: 3.9390 - val_accuracy: 0.5587\n",
      "Epoch 47/100\n",
      "453/453 [==============================] - 17s 37ms/step - loss: 0.0228 - accuracy: 0.9922 - val_loss: 4.1220 - val_accuracy: 0.5443\n",
      "Epoch 48/100\n",
      "453/453 [==============================] - 17s 37ms/step - loss: 0.0397 - accuracy: 0.9867 - val_loss: 3.5322 - val_accuracy: 0.5509\n",
      "Epoch 49/100\n",
      "453/453 [==============================] - 17s 37ms/step - loss: 0.0255 - accuracy: 0.9921 - val_loss: 3.8102 - val_accuracy: 0.5553\n",
      "Epoch 50/100\n",
      "453/453 [==============================] - 17s 37ms/step - loss: 0.0325 - accuracy: 0.9903 - val_loss: 3.5997 - val_accuracy: 0.5482\n",
      "Epoch 51/100\n",
      "453/453 [==============================] - 17s 36ms/step - loss: 0.0208 - accuracy: 0.9941 - val_loss: 3.9838 - val_accuracy: 0.5647\n",
      "Epoch 52/100\n",
      "453/453 [==============================] - 17s 36ms/step - loss: 0.0196 - accuracy: 0.9934 - val_loss: 4.0897 - val_accuracy: 0.5266\n",
      "Epoch 53/100\n",
      "453/453 [==============================] - 17s 37ms/step - loss: 0.0336 - accuracy: 0.9903 - val_loss: 3.5275 - val_accuracy: 0.5614\n",
      "Epoch 54/100\n",
      "453/453 [==============================] - 17s 37ms/step - loss: 0.0243 - accuracy: 0.9920 - val_loss: 3.7906 - val_accuracy: 0.5691\n",
      "Epoch 55/100\n",
      "453/453 [==============================] - 17s 38ms/step - loss: 0.0213 - accuracy: 0.9932 - val_loss: 4.0632 - val_accuracy: 0.5305\n",
      "Epoch 56/100\n",
      "453/453 [==============================] - 17s 37ms/step - loss: 0.0165 - accuracy: 0.9948 - val_loss: 4.1094 - val_accuracy: 0.5515\n",
      "Epoch 57/100\n",
      "453/453 [==============================] - 16s 36ms/step - loss: 0.0303 - accuracy: 0.9903 - val_loss: 3.7739 - val_accuracy: 0.5512\n",
      "Epoch 58/100\n",
      "453/453 [==============================] - 17s 37ms/step - loss: 0.0178 - accuracy: 0.9944 - val_loss: 4.1631 - val_accuracy: 0.5479\n",
      "Epoch 59/100\n",
      "453/453 [==============================] - 16s 36ms/step - loss: 0.0135 - accuracy: 0.9958 - val_loss: 4.0976 - val_accuracy: 0.5493\n",
      "Epoch 60/100\n",
      "453/453 [==============================] - 17s 37ms/step - loss: 0.0326 - accuracy: 0.9899 - val_loss: 3.6271 - val_accuracy: 0.5683\n",
      "Epoch 61/100\n",
      "453/453 [==============================] - 17s 37ms/step - loss: 0.0109 - accuracy: 0.9963 - val_loss: 4.1550 - val_accuracy: 0.5783\n",
      "Epoch 62/100\n",
      "453/453 [==============================] - 17s 37ms/step - loss: 0.0192 - accuracy: 0.9949 - val_loss: 3.9995 - val_accuracy: 0.5388\n",
      "Epoch 63/100\n",
      "453/453 [==============================] - 17s 37ms/step - loss: 0.0122 - accuracy: 0.9959 - val_loss: 4.3847 - val_accuracy: 0.5471\n",
      "Epoch 64/100\n",
      "453/453 [==============================] - 18s 40ms/step - loss: 0.0196 - accuracy: 0.9939 - val_loss: 4.1048 - val_accuracy: 0.5388\n",
      "Epoch 65/100\n",
      "453/453 [==============================] - 18s 39ms/step - loss: 0.0196 - accuracy: 0.9936 - val_loss: 3.9016 - val_accuracy: 0.5540\n",
      "Epoch 66/100\n",
      "453/453 [==============================] - 16s 36ms/step - loss: 0.0102 - accuracy: 0.9969 - val_loss: 4.4186 - val_accuracy: 0.5540\n",
      "Epoch 67/100\n",
      "453/453 [==============================] - 16s 36ms/step - loss: 0.0198 - accuracy: 0.9945 - val_loss: 3.6561 - val_accuracy: 0.5556\n",
      "Epoch 68/100\n",
      "453/453 [==============================] - 16s 35ms/step - loss: 0.0233 - accuracy: 0.9938 - val_loss: 3.5462 - val_accuracy: 0.5584\n",
      "Epoch 69/100\n",
      "453/453 [==============================] - 16s 35ms/step - loss: 0.0181 - accuracy: 0.9943 - val_loss: 3.8920 - val_accuracy: 0.5523\n",
      "Epoch 70/100\n",
      "453/453 [==============================] - 16s 35ms/step - loss: 0.0114 - accuracy: 0.9961 - val_loss: 4.4084 - val_accuracy: 0.5548\n",
      "Epoch 71/100\n",
      "453/453 [==============================] - 16s 35ms/step - loss: 0.0173 - accuracy: 0.9950 - val_loss: 4.2271 - val_accuracy: 0.5540\n",
      "Epoch 72/100\n",
      "453/453 [==============================] - 16s 35ms/step - loss: 0.0110 - accuracy: 0.9963 - val_loss: 4.2310 - val_accuracy: 0.5617\n",
      "Epoch 73/100\n",
      "453/453 [==============================] - 16s 35ms/step - loss: 0.0143 - accuracy: 0.9957 - val_loss: 4.1316 - val_accuracy: 0.5564\n",
      "Epoch 74/100\n",
      "453/453 [==============================] - 16s 35ms/step - loss: 0.0163 - accuracy: 0.9955 - val_loss: 3.8887 - val_accuracy: 0.5556\n",
      "Epoch 75/100\n",
      "453/453 [==============================] - 16s 36ms/step - loss: 0.0149 - accuracy: 0.9953 - val_loss: 4.2636 - val_accuracy: 0.5542\n",
      "Epoch 76/100\n",
      "453/453 [==============================] - 16s 36ms/step - loss: 0.0101 - accuracy: 0.9972 - val_loss: 4.4239 - val_accuracy: 0.5440\n",
      "Epoch 77/100\n",
      "453/453 [==============================] - 16s 35ms/step - loss: 0.0065 - accuracy: 0.9978 - val_loss: 4.5412 - val_accuracy: 0.5518\n",
      "Epoch 78/100\n",
      "453/453 [==============================] - 16s 36ms/step - loss: 0.0021 - accuracy: 0.9992 - val_loss: 5.0063 - val_accuracy: 0.5421\n",
      "Epoch 79/100\n",
      "453/453 [==============================] - 16s 35ms/step - loss: 0.0155 - accuracy: 0.9959 - val_loss: 4.3574 - val_accuracy: 0.5457\n",
      "Epoch 80/100\n",
      "453/453 [==============================] - 16s 35ms/step - loss: 0.0179 - accuracy: 0.9945 - val_loss: 4.3463 - val_accuracy: 0.5388\n",
      "Epoch 81/100\n",
      "453/453 [==============================] - 16s 36ms/step - loss: 0.0099 - accuracy: 0.9969 - val_loss: 4.4946 - val_accuracy: 0.5457\n",
      "Epoch 82/100\n",
      "453/453 [==============================] - 16s 35ms/step - loss: 0.0075 - accuracy: 0.9979 - val_loss: 4.6082 - val_accuracy: 0.5551\n",
      "Epoch 83/100\n",
      "453/453 [==============================] - 16s 35ms/step - loss: 0.0040 - accuracy: 0.9984 - val_loss: 4.9064 - val_accuracy: 0.5482\n",
      "Epoch 84/100\n",
      "453/453 [==============================] - 16s 35ms/step - loss: 0.0123 - accuracy: 0.9963 - val_loss: 4.5717 - val_accuracy: 0.5424\n",
      "Epoch 85/100\n",
      "453/453 [==============================] - 16s 36ms/step - loss: 0.0191 - accuracy: 0.9937 - val_loss: 4.0362 - val_accuracy: 0.5518\n",
      "Epoch 86/100\n",
      "453/453 [==============================] - 16s 35ms/step - loss: 0.0153 - accuracy: 0.9953 - val_loss: 4.0019 - val_accuracy: 0.5581\n",
      "Epoch 87/100\n",
      "453/453 [==============================] - 16s 35ms/step - loss: 0.0159 - accuracy: 0.9951 - val_loss: 4.1780 - val_accuracy: 0.5197\n",
      "Epoch 88/100\n",
      "453/453 [==============================] - 16s 35ms/step - loss: 0.0094 - accuracy: 0.9967 - val_loss: 4.1609 - val_accuracy: 0.5683\n",
      "Epoch 89/100\n",
      "453/453 [==============================] - 16s 36ms/step - loss: 0.0025 - accuracy: 0.9994 - val_loss: 4.7248 - val_accuracy: 0.5633\n",
      "Epoch 90/100\n",
      "453/453 [==============================] - 16s 36ms/step - loss: 0.0022 - accuracy: 0.9997 - val_loss: 4.9811 - val_accuracy: 0.5653\n",
      "Epoch 91/100\n",
      "453/453 [==============================] - 16s 35ms/step - loss: 0.0011 - accuracy: 0.9997 - val_loss: 5.1969 - val_accuracy: 0.5562\n",
      "Epoch 92/100\n",
      "453/453 [==============================] - 16s 36ms/step - loss: 0.0025 - accuracy: 0.9994 - val_loss: 5.0693 - val_accuracy: 0.5493\n",
      "Epoch 93/100\n",
      "453/453 [==============================] - 16s 36ms/step - loss: 0.0347 - accuracy: 0.9903 - val_loss: 3.8214 - val_accuracy: 0.5462\n",
      "Epoch 94/100\n",
      "453/453 [==============================] - 16s 36ms/step - loss: 0.0218 - accuracy: 0.9935 - val_loss: 3.7993 - val_accuracy: 0.5584\n",
      "Epoch 95/100\n",
      "453/453 [==============================] - 16s 36ms/step - loss: 0.0100 - accuracy: 0.9967 - val_loss: 4.1215 - val_accuracy: 0.5548\n",
      "Epoch 96/100\n",
      "453/453 [==============================] - 16s 36ms/step - loss: 0.0055 - accuracy: 0.9983 - val_loss: 4.5058 - val_accuracy: 0.5564\n",
      "Epoch 97/100\n",
      "453/453 [==============================] - 16s 36ms/step - loss: 0.0014 - accuracy: 0.9997 - val_loss: 4.8286 - val_accuracy: 0.5462\n",
      "Epoch 98/100\n",
      "453/453 [==============================] - 16s 36ms/step - loss: 3.6992e-04 - accuracy: 0.9999 - val_loss: 5.0732 - val_accuracy: 0.5562\n",
      "Epoch 99/100\n",
      "453/453 [==============================] - 16s 36ms/step - loss: 0.0129 - accuracy: 0.9957 - val_loss: 4.0545 - val_accuracy: 0.5421\n",
      "Epoch 100/100\n",
      "453/453 [==============================] - 16s 36ms/step - loss: 0.0155 - accuracy: 0.9951 - val_loss: 4.2685 - val_accuracy: 0.5413\n"
     ]
    }
   ],
   "source": [
    "hist = model.fit(X_train, y_train, epochs=100, validation_split=0.2)"
   ],
   "metadata": {
    "collapsed": false,
    "pycharm": {
     "name": "#%%\n"
    }
   }
  },
  {
   "cell_type": "code",
   "execution_count": 39,
   "outputs": [
    {
     "name": "stdout",
     "output_type": "stream",
     "text": [
      "440/453 [============================>.] - ETA: 0s - loss: 0.1730 - accuracy: 0.9416"
     ]
    },
    {
     "data": {
      "text/plain": "<Figure size 640x480 with 1 Axes>",
      "image/png": "[encoded data removed]"
     },
     "metadata": {},
     "output_type": "display_data"
    }
   ],
   "source": [
    "import matplotlib.pyplot as plt\n",
    "import seaborn as sns\n",
    "epoch_count = range(1, len(hist.history['accuracy']) + 1)\n",
    "sns.lineplot(x=epoch_count,  y=hist.history['accuracy'], label='train')\n",
    "sns.lineplot(x=epoch_count,  y=hist.history['val_accuracy'], label='valid')\n",
    "plt.show()"
   ],
   "metadata": {
    "collapsed": false,
    "pycharm": {
     "name": "#%%\n"
    }
   }
  },
  {
   "cell_type": "code",
   "execution_count": 40,
   "outputs": [
    {
     "name": "stdout",
     "output_type": "stream",
     "text": [
      "142/142 [==============================] - 2s 15ms/step - loss: 4.0489 - accuracy: 0.5602\n"
     ]
    },
    {
     "data": {
      "text/plain": "[4.048920631408691, 0.5601677894592285]"
     },
     "execution_count": 40,
     "metadata": {},
     "output_type": "execute_result"
    }
   ],
   "source": [
    "model.evaluate(X_test, y_test)"
   ],
   "metadata": {
    "collapsed": false,
    "pycharm": {
     "name": "#%%\n"
    }
   }
  },
  {
   "cell_type": "code",
   "execution_count": null,
   "outputs": [],
   "source": [],
   "metadata": {
    "collapsed": false,
    "pycharm": {
     "name": "#%%\n"
    }
   }
  }
 ]
}